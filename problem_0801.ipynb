{
 "cells": [
  {
   "cell_type": "markdown",
   "source": [
    "## Quiz #0801"
   ],
   "metadata": {}
  },
  {
   "cell_type": "markdown",
   "source": [
    "### \"Text Classification with Keras\""
   ],
   "metadata": {}
  },
  {
   "cell_type": "code",
   "execution_count": 120,
   "source": [
    "import numpy as np\r\n",
    "import pandas as pd\r\n",
    "import re\r\n",
    "import nltk\r\n",
    "from nltk.stem import PorterStemmer\r\n",
    "import os\r\n",
    "import seaborn as sns\r\n",
    "import matplotlib.pyplot as plt\r\n",
    "from nltk.corpus import stopwords\r\n",
    "from sklearn import metrics\r\n",
    "from sklearn.datasets import load_files\r\n",
    "from sklearn.model_selection import train_test_split\r\n",
    "from sklearn import preprocessing\r\n",
    "from keras.models import Sequential\r\n",
    "from keras.layers import Dense, SimpleRNN, LSTM, Embedding, SpatialDropout1D\r\n",
    "from keras.callbacks import EarlyStopping\r\n",
    "from tensorflow.keras.utils import to_categorical\r\n",
    "from keras.preprocessing import sequence\r\n",
    "from keras.preprocessing.sequence import pad_sequences\r\n",
    "from tensorflow.keras.optimizers import Adam,RMSprop, SGD\r\n",
    "#nltk.download('stopwords')"
   ],
   "outputs": [],
   "metadata": {}
  },
  {
   "cell_type": "markdown",
   "source": [
    "#### Answer the following question by providing Python code:"
   ],
   "metadata": {}
  },
  {
   "cell_type": "markdown",
   "source": [
    "1). Read in the movie review data from Cornell CS department. Carry out the EDA. <br>\n",
    "- The data can be found [here](https://www.cs.cornell.edu/people/pabo/movie-review-data). <br>\n",
    "- Download the “polarity dataset” and unzip. <br>\n",
    "- Under the \"txt_sentoken” folder, there are “pos” and “neg\" subfolders. <br>"
   ],
   "metadata": {}
  },
  {
   "cell_type": "code",
   "execution_count": 2,
   "source": [],
   "outputs": [],
   "metadata": {}
  },
  {
   "cell_type": "markdown",
   "source": [
    "2). Carry out the data preprocessing: <br>\n",
    "- Cleaning.\n",
    "- Stopword removal."
   ],
   "metadata": {}
  },
  {
   "cell_type": "code",
   "execution_count": 4,
   "source": [
    "def cleantxt(txt):\r\n",
    "    stpw = stopwords.words('english')\r\n",
    "    # using regex to clean the text\r\n",
    "    txt = re.sub(r\"\\n\", \" \", txt)\r\n",
    "    txt = re.sub(\"[\\<\\[].*?[\\>\\]]\", \" \", txt)\r\n",
    "    txt = re.sub(r\"[^a-z ]\", \" \", txt)\r\n",
    "    txt = re.sub(r\"\\b\\w{1,3}\\b\", \" \",txt)\r\n",
    "    # stopwords removal\r\n",
    "    txt = \" \".join([x for x in txt.split() if x not in stpw])\r\n",
    "    return txt"
   ],
   "outputs": [],
   "metadata": {}
  },
  {
   "cell_type": "code",
   "execution_count": 5,
   "source": [
    "# Converting to lowercase string\r\n",
    "docs=[]\r\n",
    "for i in range(len(my_docs)):\r\n",
    "    docs.append(my_docs[i].decode(\"utf-8\").lower())\r\n",
    "print(\"File converted to string.\")\r\n",
    "# Split into sentences\r\n",
    "sents=[]\r\n",
    "for i in range(len(docs)):\r\n",
    "    sents.append(nltk.sent_tokenize(docs[i]))\r\n",
    "print(\"Documents splited into sentences.\")\r\n",
    "# Cleaning sentences of each doc\r\n",
    "for i in range(len(sents)):\r\n",
    "    for j in range(len(sents[i])):\r\n",
    "        sents[i][j]=cleantxt(sents[i][j])\r\n",
    "print(\"Sentences are cleaned.\")\r\n",
    "# Split into words\r\n",
    "words=[]\r\n",
    "for i in range(len(sents)):\r\n",
    "    Words=[]\r\n",
    "    for j in range(len(sents[i])):\r\n",
    "        Words.append(sents[i][j].split(\" \"))\r\n",
    "    words.append(Words)\r\n",
    "print(\"Sentences splited into words.\")\r\n",
    "# Stemming\r\n",
    "stemmer = PorterStemmer()\r\n",
    "for i in range(len(words)):\r\n",
    "    for j in range(len(words[i])):\r\n",
    "        for k in range(len(words[i][j])):\r\n",
    "            words[i][j] = [stemmer.stem(x) for x in words[i][j]]\r\n",
    "print(\"Stemming complete.\")\r\n",
    "#Join into sentences\r\n",
    "Sents=[]\r\n",
    "for i in range(len(words)):\r\n",
    "    sentences=[]\r\n",
    "    for j in range(len(words[i])):\r\n",
    "        sentences.append(\" \".join(words[i][j]))\r\n",
    "    Sents.append(sentences)\r\n",
    "print(\"Stemmed words are joined into sentences.\")\r\n",
    "#join into documents\r\n",
    "Docs=[]\r\n",
    "for i in range(len(Sents)):\r\n",
    "    par = \" \".join(Sents[i])\r\n",
    "    Docs.append(par)\r\n",
    "print(\"Data is ready !\")"
   ],
   "outputs": [],
   "metadata": {}
  },
  {
   "cell_type": "code",
   "execution_count": 8,
   "source": [
    "len(Docs)"
   ],
   "outputs": [
    {
     "output_type": "execute_result",
     "data": {
      "text/plain": [
       "2000"
      ]
     },
     "metadata": {},
     "execution_count": 8
    }
   ],
   "metadata": {}
  },
  {
   "cell_type": "markdown",
   "source": [
    "3). Carry out label encoding by integers (required form by Keras):"
   ],
   "metadata": {}
  },
  {
   "cell_type": "code",
   "execution_count": 32,
   "source": [
    "# split again into words\r\n",
    "Docs_words=[]\r\n",
    "for i in range(len(docs)):\r\n",
    "    Docs_words.append(nltk.word_tokenize(Docs[i]))"
   ],
   "outputs": [],
   "metadata": {}
  },
  {
   "cell_type": "code",
   "execution_count": 21,
   "source": [
    "# label encoding by integers\r\n",
    "Joined = sum(Docs_words, [])\r\n",
    "le = preprocessing.LabelEncoder()\r\n",
    "le.fit(Joined)"
   ],
   "outputs": [
    {
     "output_type": "execute_result",
     "data": {
      "text/plain": [
       "LabelEncoder()"
      ]
     },
     "metadata": {},
     "execution_count": 21
    }
   ],
   "metadata": {}
  },
  {
   "cell_type": "code",
   "execution_count": 24,
   "source": [
    "Docs_encoded=[]\r\n",
    "for i in range(len(Docs_words)):\r\n",
    "    Docs_encoded.append(le.transform(Docs_words[i]))"
   ],
   "outputs": [],
   "metadata": {}
  },
  {
   "cell_type": "markdown",
   "source": [
    "4). Prepare the data for AI: <br>\n",
    "- Apply the padding.\n",
    "- Split the data into training and testing."
   ],
   "metadata": {}
  },
  {
   "cell_type": "code",
   "execution_count": 43,
   "source": [
    "# Max number of words in each doc\r\n",
    "MAX_SEQUENCE_LENGTH = len(Docs_encoded[Docs_encoded.index(max(Docs_encoded,key=len))])\r\n",
    "MAX_SEQUENCE_LENGTH"
   ],
   "outputs": [
    {
     "output_type": "stream",
     "name": "stderr",
     "text": [
      "<ipython-input-43-87fb54694cfd>:2: DeprecationWarning: elementwise comparison failed; this will raise an error in the future.\n",
      "  MAX_SEQUENCE_LENGTH = len(Docs_encoded[Docs_encoded.index(max(Docs_encoded,key=len))])\n"
     ]
    },
    {
     "output_type": "execute_result",
     "data": {
      "text/plain": [
       "1290"
      ]
     },
     "metadata": {},
     "execution_count": 43
    }
   ],
   "metadata": {}
  },
  {
   "cell_type": "code",
   "execution_count": 45,
   "source": [
    "#padding\r\n",
    "Docs_encoded_ = pad_sequences(Docs_encoded, maxlen=MAX_SEQUENCE_LENGTH)"
   ],
   "outputs": [],
   "metadata": {}
  },
  {
   "cell_type": "code",
   "execution_count": 47,
   "source": [
    "len(Docs_encoded_[0])==MAX_SEQUENCE_LENGTH"
   ],
   "outputs": [
    {
     "output_type": "execute_result",
     "data": {
      "text/plain": [
       "True"
      ]
     },
     "metadata": {},
     "execution_count": 47
    }
   ],
   "metadata": {}
  },
  {
   "cell_type": "code",
   "execution_count": 49,
   "source": [
    "# Splitting\r\n",
    "X_train, X_test, Y_train, Y_test = train_test_split(Docs_encoded_, y, test_size=0.3, random_state=123)\r\n",
    "print(X_train.shape,Y_train.shape)\r\n",
    "print(X_test.shape,Y_test.shape)"
   ],
   "outputs": [
    {
     "output_type": "stream",
     "name": "stdout",
     "text": [
      "(1400, 1290) (1400,)\n",
      "(600, 1290) (600,)\n"
     ]
    }
   ],
   "metadata": {}
  },
  {
   "cell_type": "markdown",
   "source": [
    "5). Define the AI model (Embedding + LSTM):"
   ],
   "metadata": {}
  },
  {
   "cell_type": "code",
   "execution_count": 106,
   "source": [
    "vocab_len = len(set(Joined))\r\n",
    "vocab_len"
   ],
   "outputs": [
    {
     "output_type": "execute_result",
     "data": {
      "text/plain": [
       "24226"
      ]
     },
     "metadata": {},
     "execution_count": 106
    }
   ],
   "metadata": {}
  },
  {
   "cell_type": "code",
   "execution_count": 112,
   "source": [
    "model = Sequential()\r\n",
    "model.add(Embedding(vocab_len, 50, input_length=Docs_encoded_.shape[1]))\r\n",
    "model.add(SpatialDropout1D(0.2))\r\n",
    "model.add(LSTM(64, dropout=0.2, recurrent_dropout=0.2))\r\n",
    "model.add(Dense(1, activation='sigmoid'))\r\n",
    "\r\n",
    "print(model.summary())"
   ],
   "outputs": [
    {
     "output_type": "stream",
     "name": "stdout",
     "text": [
      "Model: \"sequential_8\"\n",
      "_________________________________________________________________\n",
      "Layer (type)                 Output Shape              Param #   \n",
      "=================================================================\n",
      "embedding_4 (Embedding)      (None, 1290, 50)          1211300   \n",
      "_________________________________________________________________\n",
      "spatial_dropout1d_4 (Spatial (None, 1290, 50)          0         \n",
      "_________________________________________________________________\n",
      "lstm_4 (LSTM)                (None, 64)                29440     \n",
      "_________________________________________________________________\n",
      "dense_4 (Dense)              (None, 1)                 65        \n",
      "=================================================================\n",
      "Total params: 1,240,805\n",
      "Trainable params: 1,240,805\n",
      "Non-trainable params: 0\n",
      "_________________________________________________________________\n",
      "None\n"
     ]
    }
   ],
   "metadata": {}
  },
  {
   "cell_type": "markdown",
   "source": [
    "6). Define the optimizer and compile the model:"
   ],
   "metadata": {}
  },
  {
   "cell_type": "code",
   "execution_count": 113,
   "source": [
    "model.compile(loss='binary_crossentropy', optimizer='Adam', metrics=['accuracy'])"
   ],
   "outputs": [],
   "metadata": {}
  },
  {
   "cell_type": "markdown",
   "source": [
    "7). Train the model and visualize the summary:"
   ],
   "metadata": {}
  },
  {
   "cell_type": "code",
   "execution_count": 114,
   "source": [
    "epochs = 5\r\n",
    "batch_size = 64\r\n",
    "history = model.fit(X_train, Y_train, epochs=epochs, batch_size=batch_size,validation_split=0.1,callbacks=[EarlyStopping(monitor='val_loss', patience=3, min_delta=0.0001)])"
   ],
   "outputs": [
    {
     "output_type": "stream",
     "name": "stdout",
     "text": [
      "Epoch 1/5\n",
      "20/20 [==============================] - 36s 2s/step - loss: 0.6926 - accuracy: 0.5040 - val_loss: 0.6902 - val_accuracy: 0.5143\n",
      "Epoch 2/5\n",
      "20/20 [==============================] - 33s 2s/step - loss: 0.6760 - accuracy: 0.6183 - val_loss: 0.6615 - val_accuracy: 0.7357\n",
      "Epoch 3/5\n",
      "20/20 [==============================] - 35s 2s/step - loss: 0.6015 - accuracy: 0.9119 - val_loss: 0.6152 - val_accuracy: 0.7429\n",
      "Epoch 4/5\n",
      "20/20 [==============================] - 37s 2s/step - loss: 0.3342 - accuracy: 0.9222 - val_loss: 0.4813 - val_accuracy: 0.8000\n",
      "Epoch 5/5\n",
      "20/20 [==============================] - 36s 2s/step - loss: 0.1304 - accuracy: 0.9619 - val_loss: 0.4996 - val_accuracy: 0.8071\n"
     ]
    }
   ],
   "metadata": {}
  },
  {
   "cell_type": "code",
   "execution_count": 118,
   "source": [
    "plt.style.use('seaborn-darkgrid')\r\n",
    "palette = plt.get_cmap('Set1')\r\n",
    "\r\n",
    "plt.plot(history.history['val_accuracy'], label='Validation accuracy', color = palette(2))\r\n",
    "plt.plot(history.history['accuracy'], label='Train accuracy', color = palette(1))\r\n",
    "plt.title(\"Training Performance\")\r\n",
    "plt.xlabel(\"Epoch\")\r\n",
    "plt.legend()\r\n",
    "plt.show()"
   ],
   "outputs": [
    {
     "output_type": "display_data",
     "data": {
      "text/plain": [
       "<Figure size 432x288 with 1 Axes>"
      ],
      "image/svg+xml": "<?xml version=\"1.0\" encoding=\"utf-8\" standalone=\"no\"?>\r\n<!DOCTYPE svg PUBLIC \"-//W3C//DTD SVG 1.1//EN\"\r\n  \"http://www.w3.org/Graphics/SVG/1.1/DTD/svg11.dtd\">\r\n<!-- Created with matplotlib (https://matplotlib.org/) -->\r\n<svg height=\"272.36625pt\" version=\"1.1\" viewBox=\"0 0 366.6 272.36625\" width=\"366.6pt\" xmlns=\"http://www.w3.org/2000/svg\" xmlns:xlink=\"http://www.w3.org/1999/xlink\">\r\n <metadata>\r\n  <rdf:RDF xmlns:cc=\"http://creativecommons.org/ns#\" xmlns:dc=\"http://purl.org/dc/elements/1.1/\" xmlns:rdf=\"http://www.w3.org/1999/02/22-rdf-syntax-ns#\">\r\n   <cc:Work>\r\n    <dc:type rdf:resource=\"http://purl.org/dc/dcmitype/StillImage\"/>\r\n    <dc:date>2021-09-02T13:15:49.963868</dc:date>\r\n    <dc:format>image/svg+xml</dc:format>\r\n    <dc:creator>\r\n     <cc:Agent>\r\n      <dc:title>Matplotlib v3.3.4, https://matplotlib.org/</dc:title>\r\n     </cc:Agent>\r\n    </dc:creator>\r\n   </cc:Work>\r\n  </rdf:RDF>\r\n </metadata>\r\n <defs>\r\n  <style type=\"text/css\">*{stroke-linecap:butt;stroke-linejoin:round;}</style>\r\n </defs>\r\n <g id=\"figure_1\">\r\n  <g id=\"patch_1\">\r\n   <path d=\"M 0 272.36625 \r\nL 366.6 272.36625 \r\nL 366.6 0 \r\nL 0 0 \r\nz\r\n\" style=\"fill:#ffffff;\"/>\r\n  </g>\r\n  <g id=\"axes_1\">\r\n   <g id=\"patch_2\">\r\n    <path d=\"M 24.6 239.375625 \r\nL 359.4 239.375625 \r\nL 359.4 21.935625 \r\nL 24.6 21.935625 \r\nz\r\n\" style=\"fill:#eaeaf2;\"/>\r\n   </g>\r\n   <g id=\"matplotlib.axis_1\">\r\n    <g id=\"xtick_1\">\r\n     <g id=\"line2d_1\">\r\n      <path clip-path=\"url(#p09191a7d61)\" d=\"M 39.818182 239.375625 \r\nL 39.818182 21.935625 \r\n\" style=\"fill:none;stroke:#ffffff;stroke-linecap:round;stroke-width:0.8;\"/>\r\n     </g>\r\n     <g id=\"line2d_2\"/>\r\n     <g id=\"text_1\">\r\n      <!-- 0.0 -->\r\n      <g style=\"fill:#262626;\" transform=\"translate(32.868182 250.033438)scale(0.1 -0.1)\">\r\n       <defs>\r\n        <path d=\"M 4.15625 35.296875 \r\nQ 4.15625 48 6.765625 55.734375 \r\nQ 9.375 63.484375 14.515625 67.671875 \r\nQ 19.671875 71.875 27.484375 71.875 \r\nQ 33.25 71.875 37.59375 69.546875 \r\nQ 41.9375 67.234375 44.765625 62.859375 \r\nQ 47.609375 58.5 49.21875 52.21875 \r\nQ 50.828125 45.953125 50.828125 35.296875 \r\nQ 50.828125 22.703125 48.234375 14.96875 \r\nQ 45.65625 7.234375 40.5 3 \r\nQ 35.359375 -1.21875 27.484375 -1.21875 \r\nQ 17.140625 -1.21875 11.234375 6.203125 \r\nQ 4.15625 15.140625 4.15625 35.296875 \r\nz\r\nM 13.1875 35.296875 \r\nQ 13.1875 17.671875 17.3125 11.828125 \r\nQ 21.4375 6 27.484375 6 \r\nQ 33.546875 6 37.671875 11.859375 \r\nQ 41.796875 17.71875 41.796875 35.296875 \r\nQ 41.796875 52.984375 37.671875 58.78125 \r\nQ 33.546875 64.59375 27.390625 64.59375 \r\nQ 21.34375 64.59375 17.71875 59.46875 \r\nQ 13.1875 52.9375 13.1875 35.296875 \r\nz\r\n\" id=\"ArialMT-48\"/>\r\n        <path d=\"M 9.078125 0 \r\nL 9.078125 10.015625 \r\nL 19.09375 10.015625 \r\nL 19.09375 0 \r\nz\r\n\" id=\"ArialMT-46\"/>\r\n       </defs>\r\n       <use xlink:href=\"#ArialMT-48\"/>\r\n       <use x=\"55.615234\" xlink:href=\"#ArialMT-46\"/>\r\n       <use x=\"83.398438\" xlink:href=\"#ArialMT-48\"/>\r\n      </g>\r\n     </g>\r\n    </g>\r\n    <g id=\"xtick_2\">\r\n     <g id=\"line2d_3\">\r\n      <path clip-path=\"url(#p09191a7d61)\" d=\"M 77.863636 239.375625 \r\nL 77.863636 21.935625 \r\n\" style=\"fill:none;stroke:#ffffff;stroke-linecap:round;stroke-width:0.8;\"/>\r\n     </g>\r\n     <g id=\"line2d_4\"/>\r\n     <g id=\"text_2\">\r\n      <!-- 0.5 -->\r\n      <g style=\"fill:#262626;\" transform=\"translate(70.913636 250.033438)scale(0.1 -0.1)\">\r\n       <defs>\r\n        <path d=\"M 4.15625 18.75 \r\nL 13.375 19.53125 \r\nQ 14.40625 12.796875 18.140625 9.390625 \r\nQ 21.875 6 27.15625 6 \r\nQ 33.5 6 37.890625 10.78125 \r\nQ 42.28125 15.578125 42.28125 23.484375 \r\nQ 42.28125 31 38.0625 35.34375 \r\nQ 33.84375 39.703125 27 39.703125 \r\nQ 22.75 39.703125 19.328125 37.765625 \r\nQ 15.921875 35.84375 13.96875 32.765625 \r\nL 5.71875 33.84375 \r\nL 12.640625 70.609375 \r\nL 48.25 70.609375 \r\nL 48.25 62.203125 \r\nL 19.671875 62.203125 \r\nL 15.828125 42.96875 \r\nQ 22.265625 47.46875 29.34375 47.46875 \r\nQ 38.71875 47.46875 45.15625 40.96875 \r\nQ 51.609375 34.46875 51.609375 24.265625 \r\nQ 51.609375 14.546875 45.953125 7.46875 \r\nQ 39.0625 -1.21875 27.15625 -1.21875 \r\nQ 17.390625 -1.21875 11.203125 4.25 \r\nQ 5.03125 9.71875 4.15625 18.75 \r\nz\r\n\" id=\"ArialMT-53\"/>\r\n       </defs>\r\n       <use xlink:href=\"#ArialMT-48\"/>\r\n       <use x=\"55.615234\" xlink:href=\"#ArialMT-46\"/>\r\n       <use x=\"83.398438\" xlink:href=\"#ArialMT-53\"/>\r\n      </g>\r\n     </g>\r\n    </g>\r\n    <g id=\"xtick_3\">\r\n     <g id=\"line2d_5\">\r\n      <path clip-path=\"url(#p09191a7d61)\" d=\"M 115.909091 239.375625 \r\nL 115.909091 21.935625 \r\n\" style=\"fill:none;stroke:#ffffff;stroke-linecap:round;stroke-width:0.8;\"/>\r\n     </g>\r\n     <g id=\"line2d_6\"/>\r\n     <g id=\"text_3\">\r\n      <!-- 1.0 -->\r\n      <g style=\"fill:#262626;\" transform=\"translate(108.959091 250.033438)scale(0.1 -0.1)\">\r\n       <defs>\r\n        <path d=\"M 37.25 0 \r\nL 28.46875 0 \r\nL 28.46875 56 \r\nQ 25.296875 52.984375 20.140625 49.953125 \r\nQ 14.984375 46.921875 10.890625 45.40625 \r\nL 10.890625 53.90625 \r\nQ 18.265625 57.375 23.78125 62.296875 \r\nQ 29.296875 67.234375 31.59375 71.875 \r\nL 37.25 71.875 \r\nz\r\n\" id=\"ArialMT-49\"/>\r\n       </defs>\r\n       <use xlink:href=\"#ArialMT-49\"/>\r\n       <use x=\"55.615234\" xlink:href=\"#ArialMT-46\"/>\r\n       <use x=\"83.398438\" xlink:href=\"#ArialMT-48\"/>\r\n      </g>\r\n     </g>\r\n    </g>\r\n    <g id=\"xtick_4\">\r\n     <g id=\"line2d_7\">\r\n      <path clip-path=\"url(#p09191a7d61)\" d=\"M 153.954545 239.375625 \r\nL 153.954545 21.935625 \r\n\" style=\"fill:none;stroke:#ffffff;stroke-linecap:round;stroke-width:0.8;\"/>\r\n     </g>\r\n     <g id=\"line2d_8\"/>\r\n     <g id=\"text_4\">\r\n      <!-- 1.5 -->\r\n      <g style=\"fill:#262626;\" transform=\"translate(147.004545 250.033438)scale(0.1 -0.1)\">\r\n       <use xlink:href=\"#ArialMT-49\"/>\r\n       <use x=\"55.615234\" xlink:href=\"#ArialMT-46\"/>\r\n       <use x=\"83.398438\" xlink:href=\"#ArialMT-53\"/>\r\n      </g>\r\n     </g>\r\n    </g>\r\n    <g id=\"xtick_5\">\r\n     <g id=\"line2d_9\">\r\n      <path clip-path=\"url(#p09191a7d61)\" d=\"M 192 239.375625 \r\nL 192 21.935625 \r\n\" style=\"fill:none;stroke:#ffffff;stroke-linecap:round;stroke-width:0.8;\"/>\r\n     </g>\r\n     <g id=\"line2d_10\"/>\r\n     <g id=\"text_5\">\r\n      <!-- 2.0 -->\r\n      <g style=\"fill:#262626;\" transform=\"translate(185.05 250.033438)scale(0.1 -0.1)\">\r\n       <defs>\r\n        <path d=\"M 50.34375 8.453125 \r\nL 50.34375 0 \r\nL 3.03125 0 \r\nQ 2.9375 3.171875 4.046875 6.109375 \r\nQ 5.859375 10.9375 9.828125 15.625 \r\nQ 13.8125 20.3125 21.34375 26.46875 \r\nQ 33.015625 36.03125 37.109375 41.625 \r\nQ 41.21875 47.21875 41.21875 52.203125 \r\nQ 41.21875 57.421875 37.46875 61 \r\nQ 33.734375 64.59375 27.734375 64.59375 \r\nQ 21.390625 64.59375 17.578125 60.78125 \r\nQ 13.765625 56.984375 13.71875 50.25 \r\nL 4.6875 51.171875 \r\nQ 5.609375 61.28125 11.65625 66.578125 \r\nQ 17.71875 71.875 27.9375 71.875 \r\nQ 38.234375 71.875 44.234375 66.15625 \r\nQ 50.25 60.453125 50.25 52 \r\nQ 50.25 47.703125 48.484375 43.546875 \r\nQ 46.734375 39.40625 42.65625 34.8125 \r\nQ 38.578125 30.21875 29.109375 22.21875 \r\nQ 21.1875 15.578125 18.9375 13.203125 \r\nQ 16.703125 10.84375 15.234375 8.453125 \r\nz\r\n\" id=\"ArialMT-50\"/>\r\n       </defs>\r\n       <use xlink:href=\"#ArialMT-50\"/>\r\n       <use x=\"55.615234\" xlink:href=\"#ArialMT-46\"/>\r\n       <use x=\"83.398438\" xlink:href=\"#ArialMT-48\"/>\r\n      </g>\r\n     </g>\r\n    </g>\r\n    <g id=\"xtick_6\">\r\n     <g id=\"line2d_11\">\r\n      <path clip-path=\"url(#p09191a7d61)\" d=\"M 230.045455 239.375625 \r\nL 230.045455 21.935625 \r\n\" style=\"fill:none;stroke:#ffffff;stroke-linecap:round;stroke-width:0.8;\"/>\r\n     </g>\r\n     <g id=\"line2d_12\"/>\r\n     <g id=\"text_6\">\r\n      <!-- 2.5 -->\r\n      <g style=\"fill:#262626;\" transform=\"translate(223.095455 250.033438)scale(0.1 -0.1)\">\r\n       <use xlink:href=\"#ArialMT-50\"/>\r\n       <use x=\"55.615234\" xlink:href=\"#ArialMT-46\"/>\r\n       <use x=\"83.398438\" xlink:href=\"#ArialMT-53\"/>\r\n      </g>\r\n     </g>\r\n    </g>\r\n    <g id=\"xtick_7\">\r\n     <g id=\"line2d_13\">\r\n      <path clip-path=\"url(#p09191a7d61)\" d=\"M 268.090909 239.375625 \r\nL 268.090909 21.935625 \r\n\" style=\"fill:none;stroke:#ffffff;stroke-linecap:round;stroke-width:0.8;\"/>\r\n     </g>\r\n     <g id=\"line2d_14\"/>\r\n     <g id=\"text_7\">\r\n      <!-- 3.0 -->\r\n      <g style=\"fill:#262626;\" transform=\"translate(261.140909 250.033438)scale(0.1 -0.1)\">\r\n       <defs>\r\n        <path d=\"M 4.203125 18.890625 \r\nL 12.984375 20.0625 \r\nQ 14.5 12.59375 18.140625 9.296875 \r\nQ 21.78125 6 27 6 \r\nQ 33.203125 6 37.46875 10.296875 \r\nQ 41.75 14.59375 41.75 20.953125 \r\nQ 41.75 27 37.796875 30.921875 \r\nQ 33.84375 34.859375 27.734375 34.859375 \r\nQ 25.25 34.859375 21.53125 33.890625 \r\nL 22.515625 41.609375 \r\nQ 23.390625 41.5 23.921875 41.5 \r\nQ 29.546875 41.5 34.03125 44.421875 \r\nQ 38.53125 47.359375 38.53125 53.46875 \r\nQ 38.53125 58.296875 35.25 61.46875 \r\nQ 31.984375 64.65625 26.8125 64.65625 \r\nQ 21.6875 64.65625 18.265625 61.421875 \r\nQ 14.84375 58.203125 13.875 51.765625 \r\nL 5.078125 53.328125 \r\nQ 6.6875 62.15625 12.390625 67.015625 \r\nQ 18.109375 71.875 26.609375 71.875 \r\nQ 32.46875 71.875 37.390625 69.359375 \r\nQ 42.328125 66.84375 44.9375 62.5 \r\nQ 47.5625 58.15625 47.5625 53.265625 \r\nQ 47.5625 48.640625 45.0625 44.828125 \r\nQ 42.578125 41.015625 37.703125 38.765625 \r\nQ 44.046875 37.3125 47.5625 32.6875 \r\nQ 51.078125 28.078125 51.078125 21.140625 \r\nQ 51.078125 11.765625 44.234375 5.25 \r\nQ 37.40625 -1.265625 26.953125 -1.265625 \r\nQ 17.53125 -1.265625 11.296875 4.34375 \r\nQ 5.078125 9.96875 4.203125 18.890625 \r\nz\r\n\" id=\"ArialMT-51\"/>\r\n       </defs>\r\n       <use xlink:href=\"#ArialMT-51\"/>\r\n       <use x=\"55.615234\" xlink:href=\"#ArialMT-46\"/>\r\n       <use x=\"83.398438\" xlink:href=\"#ArialMT-48\"/>\r\n      </g>\r\n     </g>\r\n    </g>\r\n    <g id=\"xtick_8\">\r\n     <g id=\"line2d_15\">\r\n      <path clip-path=\"url(#p09191a7d61)\" d=\"M 306.136364 239.375625 \r\nL 306.136364 21.935625 \r\n\" style=\"fill:none;stroke:#ffffff;stroke-linecap:round;stroke-width:0.8;\"/>\r\n     </g>\r\n     <g id=\"line2d_16\"/>\r\n     <g id=\"text_8\">\r\n      <!-- 3.5 -->\r\n      <g style=\"fill:#262626;\" transform=\"translate(299.186364 250.033438)scale(0.1 -0.1)\">\r\n       <use xlink:href=\"#ArialMT-51\"/>\r\n       <use x=\"55.615234\" xlink:href=\"#ArialMT-46\"/>\r\n       <use x=\"83.398438\" xlink:href=\"#ArialMT-53\"/>\r\n      </g>\r\n     </g>\r\n    </g>\r\n    <g id=\"xtick_9\">\r\n     <g id=\"line2d_17\">\r\n      <path clip-path=\"url(#p09191a7d61)\" d=\"M 344.181818 239.375625 \r\nL 344.181818 21.935625 \r\n\" style=\"fill:none;stroke:#ffffff;stroke-linecap:round;stroke-width:0.8;\"/>\r\n     </g>\r\n     <g id=\"line2d_18\"/>\r\n     <g id=\"text_9\">\r\n      <!-- 4.0 -->\r\n      <g style=\"fill:#262626;\" transform=\"translate(337.231818 250.033438)scale(0.1 -0.1)\">\r\n       <defs>\r\n        <path d=\"M 32.328125 0 \r\nL 32.328125 17.140625 \r\nL 1.265625 17.140625 \r\nL 1.265625 25.203125 \r\nL 33.9375 71.578125 \r\nL 41.109375 71.578125 \r\nL 41.109375 25.203125 \r\nL 50.78125 25.203125 \r\nL 50.78125 17.140625 \r\nL 41.109375 17.140625 \r\nL 41.109375 0 \r\nz\r\nM 32.328125 25.203125 \r\nL 32.328125 57.46875 \r\nL 9.90625 25.203125 \r\nz\r\n\" id=\"ArialMT-52\"/>\r\n       </defs>\r\n       <use xlink:href=\"#ArialMT-52\"/>\r\n       <use x=\"55.615234\" xlink:href=\"#ArialMT-46\"/>\r\n       <use x=\"83.398438\" xlink:href=\"#ArialMT-48\"/>\r\n      </g>\r\n     </g>\r\n    </g>\r\n    <g id=\"text_10\">\r\n     <!-- Epoch -->\r\n     <g style=\"fill:#262626;\" transform=\"translate(177.823438 263.17875)scale(0.1 -0.1)\">\r\n      <defs>\r\n       <path d=\"M 7.90625 0 \r\nL 7.90625 71.578125 \r\nL 59.671875 71.578125 \r\nL 59.671875 63.140625 \r\nL 17.390625 63.140625 \r\nL 17.390625 41.21875 \r\nL 56.984375 41.21875 \r\nL 56.984375 32.8125 \r\nL 17.390625 32.8125 \r\nL 17.390625 8.453125 \r\nL 61.328125 8.453125 \r\nL 61.328125 0 \r\nz\r\n\" id=\"ArialMT-69\"/>\r\n       <path d=\"M 6.59375 -19.875 \r\nL 6.59375 51.859375 \r\nL 14.59375 51.859375 \r\nL 14.59375 45.125 \r\nQ 17.4375 49.078125 21 51.046875 \r\nQ 24.5625 53.03125 29.640625 53.03125 \r\nQ 36.28125 53.03125 41.359375 49.609375 \r\nQ 46.4375 46.1875 49.015625 39.953125 \r\nQ 51.609375 33.734375 51.609375 26.3125 \r\nQ 51.609375 18.359375 48.75 11.984375 \r\nQ 45.90625 5.609375 40.453125 2.21875 \r\nQ 35.015625 -1.171875 29 -1.171875 \r\nQ 24.609375 -1.171875 21.109375 0.6875 \r\nQ 17.625 2.546875 15.375 5.375 \r\nL 15.375 -19.875 \r\nz\r\nM 14.546875 25.640625 \r\nQ 14.546875 15.625 18.59375 10.84375 \r\nQ 22.65625 6.0625 28.421875 6.0625 \r\nQ 34.28125 6.0625 38.453125 11.015625 \r\nQ 42.625 15.96875 42.625 26.375 \r\nQ 42.625 36.28125 38.546875 41.203125 \r\nQ 34.46875 46.140625 28.8125 46.140625 \r\nQ 23.1875 46.140625 18.859375 40.890625 \r\nQ 14.546875 35.640625 14.546875 25.640625 \r\nz\r\n\" id=\"ArialMT-112\"/>\r\n       <path d=\"M 3.328125 25.921875 \r\nQ 3.328125 40.328125 11.328125 47.265625 \r\nQ 18.015625 53.03125 27.640625 53.03125 \r\nQ 38.328125 53.03125 45.109375 46.015625 \r\nQ 51.90625 39.015625 51.90625 26.65625 \r\nQ 51.90625 16.65625 48.90625 10.90625 \r\nQ 45.90625 5.171875 40.15625 2 \r\nQ 34.421875 -1.171875 27.640625 -1.171875 \r\nQ 16.75 -1.171875 10.03125 5.8125 \r\nQ 3.328125 12.796875 3.328125 25.921875 \r\nz\r\nM 12.359375 25.921875 \r\nQ 12.359375 15.96875 16.703125 11.015625 \r\nQ 21.046875 6.0625 27.640625 6.0625 \r\nQ 34.1875 6.0625 38.53125 11.03125 \r\nQ 42.875 16.015625 42.875 26.21875 \r\nQ 42.875 35.84375 38.5 40.796875 \r\nQ 34.125 45.75 27.640625 45.75 \r\nQ 21.046875 45.75 16.703125 40.8125 \r\nQ 12.359375 35.890625 12.359375 25.921875 \r\nz\r\n\" id=\"ArialMT-111\"/>\r\n       <path d=\"M 40.4375 19 \r\nL 49.078125 17.875 \r\nQ 47.65625 8.9375 41.8125 3.875 \r\nQ 35.984375 -1.171875 27.484375 -1.171875 \r\nQ 16.84375 -1.171875 10.375 5.78125 \r\nQ 3.90625 12.75 3.90625 25.734375 \r\nQ 3.90625 34.125 6.6875 40.421875 \r\nQ 9.46875 46.734375 15.15625 49.875 \r\nQ 20.84375 53.03125 27.546875 53.03125 \r\nQ 35.984375 53.03125 41.359375 48.75 \r\nQ 46.734375 44.484375 48.25 36.625 \r\nL 39.703125 35.296875 \r\nQ 38.484375 40.53125 35.375 43.15625 \r\nQ 32.28125 45.796875 27.875 45.796875 \r\nQ 21.234375 45.796875 17.078125 41.03125 \r\nQ 12.9375 36.28125 12.9375 25.984375 \r\nQ 12.9375 15.53125 16.9375 10.796875 \r\nQ 20.953125 6.0625 27.390625 6.0625 \r\nQ 32.5625 6.0625 36.03125 9.234375 \r\nQ 39.5 12.40625 40.4375 19 \r\nz\r\n\" id=\"ArialMT-99\"/>\r\n       <path d=\"M 6.59375 0 \r\nL 6.59375 71.578125 \r\nL 15.375 71.578125 \r\nL 15.375 45.90625 \r\nQ 21.53125 53.03125 30.90625 53.03125 \r\nQ 36.671875 53.03125 40.921875 50.75 \r\nQ 45.171875 48.484375 47 44.484375 \r\nQ 48.828125 40.484375 48.828125 32.859375 \r\nL 48.828125 0 \r\nL 40.046875 0 \r\nL 40.046875 32.859375 \r\nQ 40.046875 39.453125 37.1875 42.453125 \r\nQ 34.328125 45.453125 29.109375 45.453125 \r\nQ 25.203125 45.453125 21.75 43.421875 \r\nQ 18.3125 41.40625 16.84375 37.9375 \r\nQ 15.375 34.46875 15.375 28.375 \r\nL 15.375 0 \r\nz\r\n\" id=\"ArialMT-104\"/>\r\n      </defs>\r\n      <use xlink:href=\"#ArialMT-69\"/>\r\n      <use x=\"66.699219\" xlink:href=\"#ArialMT-112\"/>\r\n      <use x=\"122.314453\" xlink:href=\"#ArialMT-111\"/>\r\n      <use x=\"177.929688\" xlink:href=\"#ArialMT-99\"/>\r\n      <use x=\"227.929688\" xlink:href=\"#ArialMT-104\"/>\r\n     </g>\r\n    </g>\r\n   </g>\r\n   <g id=\"matplotlib.axis_2\">\r\n    <g id=\"ytick_1\">\r\n     <g id=\"line2d_19\">\r\n      <path clip-path=\"url(#p09191a7d61)\" d=\"M 24.6 231.204917 \r\nL 359.4 231.204917 \r\n\" style=\"fill:none;stroke:#ffffff;stroke-linecap:round;stroke-width:0.8;\"/>\r\n     </g>\r\n     <g id=\"line2d_20\"/>\r\n     <g id=\"text_11\">\r\n      <!-- 0.5 -->\r\n      <g style=\"fill:#262626;\" transform=\"translate(7.2 234.783824)scale(0.1 -0.1)\">\r\n       <use xlink:href=\"#ArialMT-48\"/>\r\n       <use x=\"55.615234\" xlink:href=\"#ArialMT-46\"/>\r\n       <use x=\"83.398438\" xlink:href=\"#ArialMT-53\"/>\r\n      </g>\r\n     </g>\r\n    </g>\r\n    <g id=\"ytick_2\">\r\n     <g id=\"line2d_21\">\r\n      <path clip-path=\"url(#p09191a7d61)\" d=\"M 24.6 188.038951 \r\nL 359.4 188.038951 \r\n\" style=\"fill:none;stroke:#ffffff;stroke-linecap:round;stroke-width:0.8;\"/>\r\n     </g>\r\n     <g id=\"line2d_22\"/>\r\n     <g id=\"text_12\">\r\n      <!-- 0.6 -->\r\n      <g style=\"fill:#262626;\" transform=\"translate(7.2 191.617857)scale(0.1 -0.1)\">\r\n       <defs>\r\n        <path d=\"M 49.75 54.046875 \r\nL 41.015625 53.375 \r\nQ 39.84375 58.546875 37.703125 60.890625 \r\nQ 34.125 64.65625 28.90625 64.65625 \r\nQ 24.703125 64.65625 21.53125 62.3125 \r\nQ 17.390625 59.28125 14.984375 53.46875 \r\nQ 12.59375 47.65625 12.5 36.921875 \r\nQ 15.671875 41.75 20.265625 44.09375 \r\nQ 24.859375 46.4375 29.890625 46.4375 \r\nQ 38.671875 46.4375 44.84375 39.96875 \r\nQ 51.03125 33.5 51.03125 23.25 \r\nQ 51.03125 16.5 48.125 10.71875 \r\nQ 45.21875 4.9375 40.140625 1.859375 \r\nQ 35.0625 -1.21875 28.609375 -1.21875 \r\nQ 17.625 -1.21875 10.6875 6.859375 \r\nQ 3.765625 14.9375 3.765625 33.5 \r\nQ 3.765625 54.25 11.421875 63.671875 \r\nQ 18.109375 71.875 29.4375 71.875 \r\nQ 37.890625 71.875 43.28125 67.140625 \r\nQ 48.6875 62.40625 49.75 54.046875 \r\nz\r\nM 13.875 23.1875 \r\nQ 13.875 18.65625 15.796875 14.5 \r\nQ 17.71875 10.359375 21.1875 8.171875 \r\nQ 24.65625 6 28.46875 6 \r\nQ 34.03125 6 38.03125 10.484375 \r\nQ 42.046875 14.984375 42.046875 22.703125 \r\nQ 42.046875 30.125 38.078125 34.390625 \r\nQ 34.125 38.671875 28.125 38.671875 \r\nQ 22.171875 38.671875 18.015625 34.390625 \r\nQ 13.875 30.125 13.875 23.1875 \r\nz\r\n\" id=\"ArialMT-54\"/>\r\n       </defs>\r\n       <use xlink:href=\"#ArialMT-48\"/>\r\n       <use x=\"55.615234\" xlink:href=\"#ArialMT-46\"/>\r\n       <use x=\"83.398438\" xlink:href=\"#ArialMT-54\"/>\r\n      </g>\r\n     </g>\r\n    </g>\r\n    <g id=\"ytick_3\">\r\n     <g id=\"line2d_23\">\r\n      <path clip-path=\"url(#p09191a7d61)\" d=\"M 24.6 144.872984 \r\nL 359.4 144.872984 \r\n\" style=\"fill:none;stroke:#ffffff;stroke-linecap:round;stroke-width:0.8;\"/>\r\n     </g>\r\n     <g id=\"line2d_24\"/>\r\n     <g id=\"text_13\">\r\n      <!-- 0.7 -->\r\n      <g style=\"fill:#262626;\" transform=\"translate(7.2 148.45189)scale(0.1 -0.1)\">\r\n       <defs>\r\n        <path d=\"M 4.734375 62.203125 \r\nL 4.734375 70.65625 \r\nL 51.078125 70.65625 \r\nL 51.078125 63.8125 \r\nQ 44.234375 56.546875 37.515625 44.484375 \r\nQ 30.8125 32.421875 27.15625 19.671875 \r\nQ 24.515625 10.6875 23.78125 0 \r\nL 14.75 0 \r\nQ 14.890625 8.453125 18.0625 20.40625 \r\nQ 21.234375 32.375 27.171875 43.484375 \r\nQ 33.109375 54.59375 39.796875 62.203125 \r\nz\r\n\" id=\"ArialMT-55\"/>\r\n       </defs>\r\n       <use xlink:href=\"#ArialMT-48\"/>\r\n       <use x=\"55.615234\" xlink:href=\"#ArialMT-46\"/>\r\n       <use x=\"83.398438\" xlink:href=\"#ArialMT-55\"/>\r\n      </g>\r\n     </g>\r\n    </g>\r\n    <g id=\"ytick_4\">\r\n     <g id=\"line2d_25\">\r\n      <path clip-path=\"url(#p09191a7d61)\" d=\"M 24.6 101.707018 \r\nL 359.4 101.707018 \r\n\" style=\"fill:none;stroke:#ffffff;stroke-linecap:round;stroke-width:0.8;\"/>\r\n     </g>\r\n     <g id=\"line2d_26\"/>\r\n     <g id=\"text_14\">\r\n      <!-- 0.8 -->\r\n      <g style=\"fill:#262626;\" transform=\"translate(7.2 105.285924)scale(0.1 -0.1)\">\r\n       <defs>\r\n        <path d=\"M 17.671875 38.8125 \r\nQ 12.203125 40.828125 9.5625 44.53125 \r\nQ 6.9375 48.25 6.9375 53.421875 \r\nQ 6.9375 61.234375 12.546875 66.546875 \r\nQ 18.171875 71.875 27.484375 71.875 \r\nQ 36.859375 71.875 42.578125 66.421875 \r\nQ 48.296875 60.984375 48.296875 53.171875 \r\nQ 48.296875 48.1875 45.671875 44.5 \r\nQ 43.0625 40.828125 37.75 38.8125 \r\nQ 44.34375 36.671875 47.78125 31.875 \r\nQ 51.21875 27.09375 51.21875 20.453125 \r\nQ 51.21875 11.28125 44.71875 5.03125 \r\nQ 38.234375 -1.21875 27.640625 -1.21875 \r\nQ 17.046875 -1.21875 10.546875 5.046875 \r\nQ 4.046875 11.328125 4.046875 20.703125 \r\nQ 4.046875 27.6875 7.59375 32.390625 \r\nQ 11.140625 37.109375 17.671875 38.8125 \r\nz\r\nM 15.921875 53.71875 \r\nQ 15.921875 48.640625 19.1875 45.40625 \r\nQ 22.46875 42.1875 27.6875 42.1875 \r\nQ 32.765625 42.1875 36.015625 45.375 \r\nQ 39.265625 48.578125 39.265625 53.21875 \r\nQ 39.265625 58.0625 35.90625 61.359375 \r\nQ 32.5625 64.65625 27.59375 64.65625 \r\nQ 22.5625 64.65625 19.234375 61.421875 \r\nQ 15.921875 58.203125 15.921875 53.71875 \r\nz\r\nM 13.09375 20.65625 \r\nQ 13.09375 16.890625 14.875 13.375 \r\nQ 16.65625 9.859375 20.171875 7.921875 \r\nQ 23.6875 6 27.734375 6 \r\nQ 34.03125 6 38.125 10.046875 \r\nQ 42.234375 14.109375 42.234375 20.359375 \r\nQ 42.234375 26.703125 38.015625 30.859375 \r\nQ 33.796875 35.015625 27.4375 35.015625 \r\nQ 21.234375 35.015625 17.15625 30.90625 \r\nQ 13.09375 26.8125 13.09375 20.65625 \r\nz\r\n\" id=\"ArialMT-56\"/>\r\n       </defs>\r\n       <use xlink:href=\"#ArialMT-48\"/>\r\n       <use x=\"55.615234\" xlink:href=\"#ArialMT-46\"/>\r\n       <use x=\"83.398438\" xlink:href=\"#ArialMT-56\"/>\r\n      </g>\r\n     </g>\r\n    </g>\r\n    <g id=\"ytick_5\">\r\n     <g id=\"line2d_27\">\r\n      <path clip-path=\"url(#p09191a7d61)\" d=\"M 24.6 58.541051 \r\nL 359.4 58.541051 \r\n\" style=\"fill:none;stroke:#ffffff;stroke-linecap:round;stroke-width:0.8;\"/>\r\n     </g>\r\n     <g id=\"line2d_28\"/>\r\n     <g id=\"text_15\">\r\n      <!-- 0.9 -->\r\n      <g style=\"fill:#262626;\" transform=\"translate(7.2 62.119957)scale(0.1 -0.1)\">\r\n       <defs>\r\n        <path d=\"M 5.46875 16.546875 \r\nL 13.921875 17.328125 \r\nQ 14.984375 11.375 18.015625 8.6875 \r\nQ 21.046875 6 25.78125 6 \r\nQ 29.828125 6 32.875 7.859375 \r\nQ 35.9375 9.71875 37.890625 12.8125 \r\nQ 39.84375 15.921875 41.15625 21.1875 \r\nQ 42.484375 26.46875 42.484375 31.9375 \r\nQ 42.484375 32.515625 42.4375 33.6875 \r\nQ 39.796875 29.5 35.234375 26.875 \r\nQ 30.671875 24.265625 25.34375 24.265625 \r\nQ 16.453125 24.265625 10.296875 30.703125 \r\nQ 4.15625 37.15625 4.15625 47.703125 \r\nQ 4.15625 58.59375 10.578125 65.234375 \r\nQ 17 71.875 26.65625 71.875 \r\nQ 33.640625 71.875 39.421875 68.109375 \r\nQ 45.21875 64.359375 48.21875 57.390625 \r\nQ 51.21875 50.4375 51.21875 37.25 \r\nQ 51.21875 23.53125 48.234375 15.40625 \r\nQ 45.265625 7.28125 39.375 3.03125 \r\nQ 33.5 -1.21875 25.59375 -1.21875 \r\nQ 17.1875 -1.21875 11.859375 3.4375 \r\nQ 6.546875 8.109375 5.46875 16.546875 \r\nz\r\nM 41.453125 48.140625 \r\nQ 41.453125 55.71875 37.421875 60.15625 \r\nQ 33.40625 64.59375 27.734375 64.59375 \r\nQ 21.875 64.59375 17.53125 59.8125 \r\nQ 13.1875 55.03125 13.1875 47.40625 \r\nQ 13.1875 40.578125 17.3125 36.296875 \r\nQ 21.4375 32.03125 27.484375 32.03125 \r\nQ 33.59375 32.03125 37.515625 36.296875 \r\nQ 41.453125 40.578125 41.453125 48.140625 \r\nz\r\n\" id=\"ArialMT-57\"/>\r\n       </defs>\r\n       <use xlink:href=\"#ArialMT-48\"/>\r\n       <use x=\"55.615234\" xlink:href=\"#ArialMT-46\"/>\r\n       <use x=\"83.398438\" xlink:href=\"#ArialMT-57\"/>\r\n      </g>\r\n     </g>\r\n    </g>\r\n   </g>\r\n   <g id=\"line2d_29\">\r\n    <path clip-path=\"url(#p09191a7d61)\" d=\"M 39.818182 225.038338 \r\nL 115.909091 129.45658 \r\nL 192 126.373278 \r\nL 268.090909 101.707013 \r\nL 344.181818 98.623736 \r\n\" style=\"fill:none;stroke:#4daf4a;stroke-linecap:round;stroke-width:1.5;\"/>\r\n   </g>\r\n   <g id=\"line2d_30\">\r\n    <path clip-path=\"url(#p09191a7d61)\" d=\"M 39.818182 229.491989 \r\nL 115.909091 180.159458 \r\nL 192 53.40225 \r\nL 268.090909 48.948625 \r\nL 344.181818 31.819261 \r\n\" style=\"fill:none;stroke:#377eb8;stroke-linecap:round;stroke-width:1.5;\"/>\r\n   </g>\r\n   <g id=\"patch_3\">\r\n    <path d=\"M 24.6 239.375625 \r\nL 24.6 21.935625 \r\n\" style=\"fill:none;\"/>\r\n   </g>\r\n   <g id=\"patch_4\">\r\n    <path d=\"M 359.4 239.375625 \r\nL 359.4 21.935625 \r\n\" style=\"fill:none;\"/>\r\n   </g>\r\n   <g id=\"patch_5\">\r\n    <path d=\"M 24.6 239.375625 \r\nL 359.4 239.375625 \r\n\" style=\"fill:none;\"/>\r\n   </g>\r\n   <g id=\"patch_6\">\r\n    <path d=\"M 24.6 21.935625 \r\nL 359.4 21.935625 \r\n\" style=\"fill:none;\"/>\r\n   </g>\r\n   <g id=\"text_16\">\r\n    <!-- Training Performance -->\r\n    <g style=\"fill:#262626;\" transform=\"translate(134.537813 15.935625)scale(0.12 -0.12)\">\r\n     <defs>\r\n      <path d=\"M 25.921875 0 \r\nL 25.921875 63.140625 \r\nL 2.34375 63.140625 \r\nL 2.34375 71.578125 \r\nL 59.078125 71.578125 \r\nL 59.078125 63.140625 \r\nL 35.40625 63.140625 \r\nL 35.40625 0 \r\nz\r\n\" id=\"ArialMT-84\"/>\r\n      <path d=\"M 6.5 0 \r\nL 6.5 51.859375 \r\nL 14.40625 51.859375 \r\nL 14.40625 44 \r\nQ 17.4375 49.515625 20 51.265625 \r\nQ 22.5625 53.03125 25.640625 53.03125 \r\nQ 30.078125 53.03125 34.671875 50.203125 \r\nL 31.640625 42.046875 \r\nQ 28.421875 43.953125 25.203125 43.953125 \r\nQ 22.3125 43.953125 20.015625 42.21875 \r\nQ 17.71875 40.484375 16.75 37.40625 \r\nQ 15.28125 32.71875 15.28125 27.15625 \r\nL 15.28125 0 \r\nz\r\n\" id=\"ArialMT-114\"/>\r\n      <path d=\"M 40.4375 6.390625 \r\nQ 35.546875 2.25 31.03125 0.53125 \r\nQ 26.515625 -1.171875 21.34375 -1.171875 \r\nQ 12.796875 -1.171875 8.203125 3 \r\nQ 3.609375 7.171875 3.609375 13.671875 \r\nQ 3.609375 17.484375 5.34375 20.625 \r\nQ 7.078125 23.78125 9.890625 25.6875 \r\nQ 12.703125 27.59375 16.21875 28.5625 \r\nQ 18.796875 29.25 24.03125 29.890625 \r\nQ 34.671875 31.15625 39.703125 32.90625 \r\nQ 39.75 34.71875 39.75 35.203125 \r\nQ 39.75 40.578125 37.25 42.78125 \r\nQ 33.890625 45.75 27.25 45.75 \r\nQ 21.046875 45.75 18.09375 43.578125 \r\nQ 15.140625 41.40625 13.71875 35.890625 \r\nL 5.125 37.0625 \r\nQ 6.296875 42.578125 8.984375 45.96875 \r\nQ 11.671875 49.359375 16.75 51.1875 \r\nQ 21.828125 53.03125 28.515625 53.03125 \r\nQ 35.15625 53.03125 39.296875 51.46875 \r\nQ 43.453125 49.90625 45.40625 47.53125 \r\nQ 47.359375 45.171875 48.140625 41.546875 \r\nQ 48.578125 39.3125 48.578125 33.453125 \r\nL 48.578125 21.734375 \r\nQ 48.578125 9.46875 49.140625 6.21875 \r\nQ 49.703125 2.984375 51.375 0 \r\nL 42.1875 0 \r\nQ 40.828125 2.734375 40.4375 6.390625 \r\nz\r\nM 39.703125 26.03125 \r\nQ 34.90625 24.078125 25.34375 22.703125 \r\nQ 19.921875 21.921875 17.671875 20.9375 \r\nQ 15.4375 19.96875 14.203125 18.09375 \r\nQ 12.984375 16.21875 12.984375 13.921875 \r\nQ 12.984375 10.40625 15.640625 8.0625 \r\nQ 18.3125 5.71875 23.4375 5.71875 \r\nQ 28.515625 5.71875 32.46875 7.9375 \r\nQ 36.421875 10.15625 38.28125 14.015625 \r\nQ 39.703125 17 39.703125 22.796875 \r\nz\r\n\" id=\"ArialMT-97\"/>\r\n      <path d=\"M 6.640625 61.46875 \r\nL 6.640625 71.578125 \r\nL 15.4375 71.578125 \r\nL 15.4375 61.46875 \r\nz\r\nM 6.640625 0 \r\nL 6.640625 51.859375 \r\nL 15.4375 51.859375 \r\nL 15.4375 0 \r\nz\r\n\" id=\"ArialMT-105\"/>\r\n      <path d=\"M 6.59375 0 \r\nL 6.59375 51.859375 \r\nL 14.5 51.859375 \r\nL 14.5 44.484375 \r\nQ 20.21875 53.03125 31 53.03125 \r\nQ 35.6875 53.03125 39.625 51.34375 \r\nQ 43.5625 49.65625 45.515625 46.921875 \r\nQ 47.46875 44.1875 48.25 40.4375 \r\nQ 48.734375 37.984375 48.734375 31.890625 \r\nL 48.734375 0 \r\nL 39.9375 0 \r\nL 39.9375 31.546875 \r\nQ 39.9375 36.921875 38.90625 39.578125 \r\nQ 37.890625 42.234375 35.28125 43.8125 \r\nQ 32.671875 45.40625 29.15625 45.40625 \r\nQ 23.53125 45.40625 19.453125 41.84375 \r\nQ 15.375 38.28125 15.375 28.328125 \r\nL 15.375 0 \r\nz\r\n\" id=\"ArialMT-110\"/>\r\n      <path d=\"M 4.984375 -4.296875 \r\nL 13.53125 -5.5625 \r\nQ 14.0625 -9.515625 16.5 -11.328125 \r\nQ 19.78125 -13.765625 25.4375 -13.765625 \r\nQ 31.546875 -13.765625 34.859375 -11.328125 \r\nQ 38.1875 -8.890625 39.359375 -4.5 \r\nQ 40.046875 -1.8125 39.984375 6.78125 \r\nQ 34.234375 0 25.640625 0 \r\nQ 14.9375 0 9.078125 7.71875 \r\nQ 3.21875 15.4375 3.21875 26.21875 \r\nQ 3.21875 33.640625 5.90625 39.90625 \r\nQ 8.59375 46.1875 13.6875 49.609375 \r\nQ 18.796875 53.03125 25.6875 53.03125 \r\nQ 34.859375 53.03125 40.828125 45.609375 \r\nL 40.828125 51.859375 \r\nL 48.921875 51.859375 \r\nL 48.921875 7.03125 \r\nQ 48.921875 -5.078125 46.453125 -10.125 \r\nQ 44 -15.1875 38.640625 -18.109375 \r\nQ 33.296875 -21.046875 25.484375 -21.046875 \r\nQ 16.21875 -21.046875 10.5 -16.875 \r\nQ 4.78125 -12.703125 4.984375 -4.296875 \r\nz\r\nM 12.25 26.859375 \r\nQ 12.25 16.65625 16.296875 11.96875 \r\nQ 20.359375 7.28125 26.46875 7.28125 \r\nQ 32.515625 7.28125 36.609375 11.9375 \r\nQ 40.71875 16.609375 40.71875 26.5625 \r\nQ 40.71875 36.078125 36.5 40.90625 \r\nQ 32.28125 45.75 26.3125 45.75 \r\nQ 20.453125 45.75 16.34375 40.984375 \r\nQ 12.25 36.234375 12.25 26.859375 \r\nz\r\n\" id=\"ArialMT-103\"/>\r\n      <path id=\"ArialMT-32\"/>\r\n      <path d=\"M 7.71875 0 \r\nL 7.71875 71.578125 \r\nL 34.71875 71.578125 \r\nQ 41.84375 71.578125 45.609375 70.90625 \r\nQ 50.875 70.015625 54.4375 67.546875 \r\nQ 58.015625 65.09375 60.1875 60.640625 \r\nQ 62.359375 56.203125 62.359375 50.875 \r\nQ 62.359375 41.75 56.546875 35.421875 \r\nQ 50.734375 29.109375 35.546875 29.109375 \r\nL 17.1875 29.109375 \r\nL 17.1875 0 \r\nz\r\nM 17.1875 37.546875 \r\nL 35.6875 37.546875 \r\nQ 44.875 37.546875 48.734375 40.96875 \r\nQ 52.59375 44.390625 52.59375 50.59375 \r\nQ 52.59375 55.078125 50.3125 58.265625 \r\nQ 48.046875 61.46875 44.34375 62.5 \r\nQ 41.9375 63.140625 35.5 63.140625 \r\nL 17.1875 63.140625 \r\nz\r\n\" id=\"ArialMT-80\"/>\r\n      <path d=\"M 42.09375 16.703125 \r\nL 51.171875 15.578125 \r\nQ 49.03125 7.625 43.21875 3.21875 \r\nQ 37.40625 -1.171875 28.375 -1.171875 \r\nQ 17 -1.171875 10.328125 5.828125 \r\nQ 3.65625 12.84375 3.65625 25.484375 \r\nQ 3.65625 38.578125 10.390625 45.796875 \r\nQ 17.140625 53.03125 27.875 53.03125 \r\nQ 38.28125 53.03125 44.875 45.953125 \r\nQ 51.46875 38.875 51.46875 26.03125 \r\nQ 51.46875 25.25 51.421875 23.6875 \r\nL 12.75 23.6875 \r\nQ 13.234375 15.140625 17.578125 10.59375 \r\nQ 21.921875 6.0625 28.421875 6.0625 \r\nQ 33.25 6.0625 36.671875 8.59375 \r\nQ 40.09375 11.140625 42.09375 16.703125 \r\nz\r\nM 13.234375 30.90625 \r\nL 42.1875 30.90625 \r\nQ 41.609375 37.453125 38.875 40.71875 \r\nQ 34.671875 45.796875 27.984375 45.796875 \r\nQ 21.921875 45.796875 17.796875 41.75 \r\nQ 13.671875 37.703125 13.234375 30.90625 \r\nz\r\n\" id=\"ArialMT-101\"/>\r\n      <path d=\"M 8.6875 0 \r\nL 8.6875 45.015625 \r\nL 0.921875 45.015625 \r\nL 0.921875 51.859375 \r\nL 8.6875 51.859375 \r\nL 8.6875 57.375 \r\nQ 8.6875 62.59375 9.625 65.140625 \r\nQ 10.890625 68.5625 14.078125 70.671875 \r\nQ 17.28125 72.796875 23.046875 72.796875 \r\nQ 26.765625 72.796875 31.25 71.921875 \r\nL 29.9375 64.265625 \r\nQ 27.203125 64.75 24.75 64.75 \r\nQ 20.75 64.75 19.09375 63.03125 \r\nQ 17.4375 61.328125 17.4375 56.640625 \r\nL 17.4375 51.859375 \r\nL 27.546875 51.859375 \r\nL 27.546875 45.015625 \r\nL 17.4375 45.015625 \r\nL 17.4375 0 \r\nz\r\n\" id=\"ArialMT-102\"/>\r\n      <path d=\"M 6.59375 0 \r\nL 6.59375 51.859375 \r\nL 14.453125 51.859375 \r\nL 14.453125 44.578125 \r\nQ 16.890625 48.390625 20.9375 50.703125 \r\nQ 25 53.03125 30.171875 53.03125 \r\nQ 35.9375 53.03125 39.625 50.640625 \r\nQ 43.3125 48.25 44.828125 43.953125 \r\nQ 50.984375 53.03125 60.84375 53.03125 \r\nQ 68.5625 53.03125 72.703125 48.75 \r\nQ 76.859375 44.484375 76.859375 35.59375 \r\nL 76.859375 0 \r\nL 68.109375 0 \r\nL 68.109375 32.671875 \r\nQ 68.109375 37.9375 67.25 40.25 \r\nQ 66.40625 42.578125 64.15625 43.984375 \r\nQ 61.921875 45.40625 58.890625 45.40625 \r\nQ 53.421875 45.40625 49.796875 41.765625 \r\nQ 46.1875 38.140625 46.1875 30.125 \r\nL 46.1875 0 \r\nL 37.40625 0 \r\nL 37.40625 33.6875 \r\nQ 37.40625 39.546875 35.25 42.46875 \r\nQ 33.109375 45.40625 28.21875 45.40625 \r\nQ 24.515625 45.40625 21.359375 43.453125 \r\nQ 18.21875 41.5 16.796875 37.734375 \r\nQ 15.375 33.984375 15.375 26.90625 \r\nL 15.375 0 \r\nz\r\n\" id=\"ArialMT-109\"/>\r\n     </defs>\r\n     <use xlink:href=\"#ArialMT-84\"/>\r\n     <use x=\"57.333984\" xlink:href=\"#ArialMT-114\"/>\r\n     <use x=\"90.634766\" xlink:href=\"#ArialMT-97\"/>\r\n     <use x=\"146.25\" xlink:href=\"#ArialMT-105\"/>\r\n     <use x=\"168.466797\" xlink:href=\"#ArialMT-110\"/>\r\n     <use x=\"224.082031\" xlink:href=\"#ArialMT-105\"/>\r\n     <use x=\"246.298828\" xlink:href=\"#ArialMT-110\"/>\r\n     <use x=\"301.914062\" xlink:href=\"#ArialMT-103\"/>\r\n     <use x=\"357.529297\" xlink:href=\"#ArialMT-32\"/>\r\n     <use x=\"385.3125\" xlink:href=\"#ArialMT-80\"/>\r\n     <use x=\"452.011719\" xlink:href=\"#ArialMT-101\"/>\r\n     <use x=\"507.626953\" xlink:href=\"#ArialMT-114\"/>\r\n     <use x=\"540.927734\" xlink:href=\"#ArialMT-102\"/>\r\n     <use x=\"568.710938\" xlink:href=\"#ArialMT-111\"/>\r\n     <use x=\"624.326172\" xlink:href=\"#ArialMT-114\"/>\r\n     <use x=\"657.626953\" xlink:href=\"#ArialMT-109\"/>\r\n     <use x=\"740.927734\" xlink:href=\"#ArialMT-97\"/>\r\n     <use x=\"796.542969\" xlink:href=\"#ArialMT-110\"/>\r\n     <use x=\"852.158203\" xlink:href=\"#ArialMT-99\"/>\r\n     <use x=\"902.158203\" xlink:href=\"#ArialMT-101\"/>\r\n    </g>\r\n   </g>\r\n   <g id=\"legend_1\">\r\n    <g id=\"line2d_31\">\r\n     <path d=\"M 33.6 34.593438 \r\nL 53.6 34.593438 \r\n\" style=\"fill:none;stroke:#4daf4a;stroke-linecap:round;stroke-width:1.5;\"/>\r\n    </g>\r\n    <g id=\"line2d_32\"/>\r\n    <g id=\"text_17\">\r\n     <!-- Validation accuracy -->\r\n     <g style=\"fill:#262626;\" transform=\"translate(61.6 38.093438)scale(0.1 -0.1)\">\r\n      <defs>\r\n       <path d=\"M 28.171875 0 \r\nL 0.4375 71.578125 \r\nL 10.6875 71.578125 \r\nL 29.296875 19.578125 \r\nQ 31.546875 13.328125 33.0625 7.859375 \r\nQ 34.71875 13.71875 36.921875 19.578125 \r\nL 56.25 71.578125 \r\nL 65.921875 71.578125 \r\nL 37.890625 0 \r\nz\r\n\" id=\"ArialMT-86\"/>\r\n       <path d=\"M 6.390625 0 \r\nL 6.390625 71.578125 \r\nL 15.1875 71.578125 \r\nL 15.1875 0 \r\nz\r\n\" id=\"ArialMT-108\"/>\r\n       <path d=\"M 40.234375 0 \r\nL 40.234375 6.546875 \r\nQ 35.296875 -1.171875 25.734375 -1.171875 \r\nQ 19.53125 -1.171875 14.328125 2.25 \r\nQ 9.125 5.671875 6.265625 11.796875 \r\nQ 3.421875 17.921875 3.421875 25.875 \r\nQ 3.421875 33.640625 6 39.96875 \r\nQ 8.59375 46.296875 13.765625 49.65625 \r\nQ 18.953125 53.03125 25.34375 53.03125 \r\nQ 30.03125 53.03125 33.6875 51.046875 \r\nQ 37.359375 49.078125 39.65625 45.90625 \r\nL 39.65625 71.578125 \r\nL 48.390625 71.578125 \r\nL 48.390625 0 \r\nz\r\nM 12.453125 25.875 \r\nQ 12.453125 15.921875 16.640625 10.984375 \r\nQ 20.84375 6.0625 26.5625 6.0625 \r\nQ 32.328125 6.0625 36.34375 10.765625 \r\nQ 40.375 15.484375 40.375 25.140625 \r\nQ 40.375 35.796875 36.265625 40.765625 \r\nQ 32.171875 45.75 26.171875 45.75 \r\nQ 20.3125 45.75 16.375 40.96875 \r\nQ 12.453125 36.1875 12.453125 25.875 \r\nz\r\n\" id=\"ArialMT-100\"/>\r\n       <path d=\"M 25.78125 7.859375 \r\nL 27.046875 0.09375 \r\nQ 23.34375 -0.6875 20.40625 -0.6875 \r\nQ 15.625 -0.6875 12.984375 0.828125 \r\nQ 10.359375 2.34375 9.28125 4.8125 \r\nQ 8.203125 7.28125 8.203125 15.1875 \r\nL 8.203125 45.015625 \r\nL 1.765625 45.015625 \r\nL 1.765625 51.859375 \r\nL 8.203125 51.859375 \r\nL 8.203125 64.703125 \r\nL 16.9375 69.96875 \r\nL 16.9375 51.859375 \r\nL 25.78125 51.859375 \r\nL 25.78125 45.015625 \r\nL 16.9375 45.015625 \r\nL 16.9375 14.703125 \r\nQ 16.9375 10.9375 17.40625 9.859375 \r\nQ 17.875 8.796875 18.921875 8.15625 \r\nQ 19.96875 7.515625 21.921875 7.515625 \r\nQ 23.390625 7.515625 25.78125 7.859375 \r\nz\r\n\" id=\"ArialMT-116\"/>\r\n       <path d=\"M 40.578125 0 \r\nL 40.578125 7.625 \r\nQ 34.515625 -1.171875 24.125 -1.171875 \r\nQ 19.53125 -1.171875 15.546875 0.578125 \r\nQ 11.578125 2.34375 9.640625 5 \r\nQ 7.71875 7.671875 6.9375 11.53125 \r\nQ 6.390625 14.109375 6.390625 19.734375 \r\nL 6.390625 51.859375 \r\nL 15.1875 51.859375 \r\nL 15.1875 23.09375 \r\nQ 15.1875 16.21875 15.71875 13.8125 \r\nQ 16.546875 10.359375 19.234375 8.375 \r\nQ 21.921875 6.390625 25.875 6.390625 \r\nQ 29.828125 6.390625 33.296875 8.421875 \r\nQ 36.765625 10.453125 38.203125 13.9375 \r\nQ 39.65625 17.4375 39.65625 24.078125 \r\nL 39.65625 51.859375 \r\nL 48.4375 51.859375 \r\nL 48.4375 0 \r\nz\r\n\" id=\"ArialMT-117\"/>\r\n       <path d=\"M 6.203125 -19.96875 \r\nL 5.21875 -11.71875 \r\nQ 8.109375 -12.5 10.25 -12.5 \r\nQ 13.1875 -12.5 14.9375 -11.515625 \r\nQ 16.703125 -10.546875 17.828125 -8.796875 \r\nQ 18.65625 -7.46875 20.515625 -2.25 \r\nQ 20.75 -1.515625 21.296875 -0.09375 \r\nL 1.609375 51.859375 \r\nL 11.078125 51.859375 \r\nL 21.875 21.828125 \r\nQ 23.96875 16.109375 25.640625 9.8125 \r\nQ 27.15625 15.875 29.25 21.625 \r\nL 40.328125 51.859375 \r\nL 49.125 51.859375 \r\nL 29.390625 -0.875 \r\nQ 26.21875 -9.421875 24.46875 -12.640625 \r\nQ 22.125 -17 19.09375 -19.015625 \r\nQ 16.0625 -21.046875 11.859375 -21.046875 \r\nQ 9.328125 -21.046875 6.203125 -19.96875 \r\nz\r\n\" id=\"ArialMT-121\"/>\r\n      </defs>\r\n      <use xlink:href=\"#ArialMT-86\"/>\r\n      <use x=\"59.324219\" xlink:href=\"#ArialMT-97\"/>\r\n      <use x=\"114.939453\" xlink:href=\"#ArialMT-108\"/>\r\n      <use x=\"137.15625\" xlink:href=\"#ArialMT-105\"/>\r\n      <use x=\"159.373047\" xlink:href=\"#ArialMT-100\"/>\r\n      <use x=\"214.988281\" xlink:href=\"#ArialMT-97\"/>\r\n      <use x=\"270.603516\" xlink:href=\"#ArialMT-116\"/>\r\n      <use x=\"298.386719\" xlink:href=\"#ArialMT-105\"/>\r\n      <use x=\"320.603516\" xlink:href=\"#ArialMT-111\"/>\r\n      <use x=\"376.21875\" xlink:href=\"#ArialMT-110\"/>\r\n      <use x=\"431.833984\" xlink:href=\"#ArialMT-32\"/>\r\n      <use x=\"459.617188\" xlink:href=\"#ArialMT-97\"/>\r\n      <use x=\"515.232422\" xlink:href=\"#ArialMT-99\"/>\r\n      <use x=\"565.232422\" xlink:href=\"#ArialMT-99\"/>\r\n      <use x=\"615.232422\" xlink:href=\"#ArialMT-117\"/>\r\n      <use x=\"670.847656\" xlink:href=\"#ArialMT-114\"/>\r\n      <use x=\"704.148438\" xlink:href=\"#ArialMT-97\"/>\r\n      <use x=\"759.763672\" xlink:href=\"#ArialMT-99\"/>\r\n      <use x=\"809.763672\" xlink:href=\"#ArialMT-121\"/>\r\n     </g>\r\n    </g>\r\n    <g id=\"line2d_33\">\r\n     <path d=\"M 33.6 48.855938 \r\nL 53.6 48.855938 \r\n\" style=\"fill:none;stroke:#377eb8;stroke-linecap:round;stroke-width:1.5;\"/>\r\n    </g>\r\n    <g id=\"line2d_34\"/>\r\n    <g id=\"text_18\">\r\n     <!-- Train accuracy -->\r\n     <g style=\"fill:#262626;\" transform=\"translate(61.6 52.355938)scale(0.1 -0.1)\">\r\n      <use xlink:href=\"#ArialMT-84\"/>\r\n      <use x=\"57.333984\" xlink:href=\"#ArialMT-114\"/>\r\n      <use x=\"90.634766\" xlink:href=\"#ArialMT-97\"/>\r\n      <use x=\"146.25\" xlink:href=\"#ArialMT-105\"/>\r\n      <use x=\"168.466797\" xlink:href=\"#ArialMT-110\"/>\r\n      <use x=\"224.082031\" xlink:href=\"#ArialMT-32\"/>\r\n      <use x=\"251.865234\" xlink:href=\"#ArialMT-97\"/>\r\n      <use x=\"307.480469\" xlink:href=\"#ArialMT-99\"/>\r\n      <use x=\"357.480469\" xlink:href=\"#ArialMT-99\"/>\r\n      <use x=\"407.480469\" xlink:href=\"#ArialMT-117\"/>\r\n      <use x=\"463.095703\" xlink:href=\"#ArialMT-114\"/>\r\n      <use x=\"496.396484\" xlink:href=\"#ArialMT-97\"/>\r\n      <use x=\"552.011719\" xlink:href=\"#ArialMT-99\"/>\r\n      <use x=\"602.011719\" xlink:href=\"#ArialMT-121\"/>\r\n     </g>\r\n    </g>\r\n   </g>\r\n  </g>\r\n </g>\r\n <defs>\r\n  <clipPath id=\"p09191a7d61\">\r\n   <rect height=\"217.44\" width=\"334.8\" x=\"24.6\" y=\"21.935625\"/>\r\n  </clipPath>\r\n </defs>\r\n</svg>\r\n",
      "image/png": "[encoded data removed]"
     },
     "metadata": {}
    }
   ],
   "metadata": {}
  },
  {
   "cell_type": "markdown",
   "source": [
    "8). Display the test result (accuracy):"
   ],
   "metadata": {}
  },
  {
   "cell_type": "code",
   "execution_count": 143,
   "source": [
    "Y_pred = model.predict(X_test)\r\n",
    "for i in range(len(Y_pred)):\r\n",
    "    Y_pred[i]=int(round(float(Y_pred[i]),0))\r\n",
    "Y_pred = Y_pred.astype('int32')\r\n",
    "Acc=metrics.accuracy_score(Y_test, Y_pred)\r\n",
    "Acc "
   ],
   "outputs": [
    {
     "output_type": "execute_result",
     "data": {
      "text/plain": [
       "0.8083333333333333"
      ]
     },
     "metadata": {},
     "execution_count": 143
    }
   ],
   "metadata": {}
  },
  {
   "cell_type": "code",
   "execution_count": 146,
   "source": [
    "confusion_matrix = pd.crosstab(pd.Series(Y_test.reshape(600)), Y_pred.reshape(600), rownames=['Actual'], colnames=['Predicted'])\r\n",
    "sns.heatmap(confusion_matrix, annot=True)"
   ],
   "outputs": [
    {
     "output_type": "execute_result",
     "data": {
      "text/plain": [
       "<AxesSubplot:xlabel='Predicted', ylabel='Actual'>"
      ]
     },
     "metadata": {},
     "execution_count": 146
    },
    {
     "output_type": "display_data",
     "data": {
      "text/plain": [
       "<Figure size 432x288 with 2 Axes>"
      ],
      "image/svg+xml": "<?xml version=\"1.0\" encoding=\"utf-8\" standalone=\"no\"?>\r\n<!DOCTYPE svg PUBLIC \"-//W3C//DTD SVG 1.1//EN\"\r\n  \"http://www.w3.org/Graphics/SVG/1.1/DTD/svg11.dtd\">\r\n<!-- Created with matplotlib (https://matplotlib.org/) -->\r\n<svg height=\"257.630625pt\" version=\"1.1\" viewBox=\"0 0 355.825438 257.630625\" width=\"355.825438pt\" xmlns=\"http://www.w3.org/2000/svg\" xmlns:xlink=\"http://www.w3.org/1999/xlink\">\r\n <metadata>\r\n  <rdf:RDF xmlns:cc=\"http://creativecommons.org/ns#\" xmlns:dc=\"http://purl.org/dc/elements/1.1/\" xmlns:rdf=\"http://www.w3.org/1999/02/22-rdf-syntax-ns#\">\r\n   <cc:Work>\r\n    <dc:type rdf:resource=\"http://purl.org/dc/dcmitype/StillImage\"/>\r\n    <dc:date>2021-09-02T13:31:57.504368</dc:date>\r\n    <dc:format>image/svg+xml</dc:format>\r\n    <dc:creator>\r\n     <cc:Agent>\r\n      <dc:title>Matplotlib v3.3.4, https://matplotlib.org/</dc:title>\r\n     </cc:Agent>\r\n    </dc:creator>\r\n   </cc:Work>\r\n  </rdf:RDF>\r\n </metadata>\r\n <defs>\r\n  <style type=\"text/css\">*{stroke-linecap:butt;stroke-linejoin:round;}</style>\r\n </defs>\r\n <g id=\"figure_1\">\r\n  <g id=\"patch_1\">\r\n   <path d=\"M 0 257.630625 \r\nL 355.825438 257.630625 \r\nL 355.825438 0 \r\nL 0 0 \r\nz\r\n\" style=\"fill:#ffffff;\"/>\r\n  </g>\r\n  <g id=\"axes_1\">\r\n   <g id=\"patch_2\">\r\n    <path d=\"M 32.990625 224.64 \r\nL 300.830625 224.64 \r\nL 300.830625 7.2 \r\nL 32.990625 7.2 \r\nz\r\n\" style=\"fill:#eaeaf2;\"/>\r\n   </g>\r\n   <g id=\"matplotlib.axis_1\">\r\n    <g id=\"xtick_1\">\r\n     <g id=\"line2d_1\"/>\r\n     <g id=\"text_1\">\r\n      <!-- 0 -->\r\n      <g style=\"fill:#262626;\" transform=\"translate(97.170156 235.297812)scale(0.1 -0.1)\">\r\n       <defs>\r\n        <path d=\"M 4.15625 35.296875 \r\nQ 4.15625 48 6.765625 55.734375 \r\nQ 9.375 63.484375 14.515625 67.671875 \r\nQ 19.671875 71.875 27.484375 71.875 \r\nQ 33.25 71.875 37.59375 69.546875 \r\nQ 41.9375 67.234375 44.765625 62.859375 \r\nQ 47.609375 58.5 49.21875 52.21875 \r\nQ 50.828125 45.953125 50.828125 35.296875 \r\nQ 50.828125 22.703125 48.234375 14.96875 \r\nQ 45.65625 7.234375 40.5 3 \r\nQ 35.359375 -1.21875 27.484375 -1.21875 \r\nQ 17.140625 -1.21875 11.234375 6.203125 \r\nQ 4.15625 15.140625 4.15625 35.296875 \r\nz\r\nM 13.1875 35.296875 \r\nQ 13.1875 17.671875 17.3125 11.828125 \r\nQ 21.4375 6 27.484375 6 \r\nQ 33.546875 6 37.671875 11.859375 \r\nQ 41.796875 17.71875 41.796875 35.296875 \r\nQ 41.796875 52.984375 37.671875 58.78125 \r\nQ 33.546875 64.59375 27.390625 64.59375 \r\nQ 21.34375 64.59375 17.71875 59.46875 \r\nQ 13.1875 52.9375 13.1875 35.296875 \r\nz\r\n\" id=\"ArialMT-48\"/>\r\n       </defs>\r\n       <use xlink:href=\"#ArialMT-48\"/>\r\n      </g>\r\n     </g>\r\n    </g>\r\n    <g id=\"xtick_2\">\r\n     <g id=\"line2d_2\"/>\r\n     <g id=\"text_2\">\r\n      <!-- 1 -->\r\n      <g style=\"fill:#262626;\" transform=\"translate(231.090156 235.297812)scale(0.1 -0.1)\">\r\n       <defs>\r\n        <path d=\"M 37.25 0 \r\nL 28.46875 0 \r\nL 28.46875 56 \r\nQ 25.296875 52.984375 20.140625 49.953125 \r\nQ 14.984375 46.921875 10.890625 45.40625 \r\nL 10.890625 53.90625 \r\nQ 18.265625 57.375 23.78125 62.296875 \r\nQ 29.296875 67.234375 31.59375 71.875 \r\nL 37.25 71.875 \r\nz\r\n\" id=\"ArialMT-49\"/>\r\n       </defs>\r\n       <use xlink:href=\"#ArialMT-49\"/>\r\n      </g>\r\n     </g>\r\n    </g>\r\n    <g id=\"text_3\">\r\n     <!-- Predicted -->\r\n     <g style=\"fill:#262626;\" transform=\"translate(145.78875 248.443125)scale(0.1 -0.1)\">\r\n      <defs>\r\n       <path d=\"M 7.71875 0 \r\nL 7.71875 71.578125 \r\nL 34.71875 71.578125 \r\nQ 41.84375 71.578125 45.609375 70.90625 \r\nQ 50.875 70.015625 54.4375 67.546875 \r\nQ 58.015625 65.09375 60.1875 60.640625 \r\nQ 62.359375 56.203125 62.359375 50.875 \r\nQ 62.359375 41.75 56.546875 35.421875 \r\nQ 50.734375 29.109375 35.546875 29.109375 \r\nL 17.1875 29.109375 \r\nL 17.1875 0 \r\nz\r\nM 17.1875 37.546875 \r\nL 35.6875 37.546875 \r\nQ 44.875 37.546875 48.734375 40.96875 \r\nQ 52.59375 44.390625 52.59375 50.59375 \r\nQ 52.59375 55.078125 50.3125 58.265625 \r\nQ 48.046875 61.46875 44.34375 62.5 \r\nQ 41.9375 63.140625 35.5 63.140625 \r\nL 17.1875 63.140625 \r\nz\r\n\" id=\"ArialMT-80\"/>\r\n       <path d=\"M 6.5 0 \r\nL 6.5 51.859375 \r\nL 14.40625 51.859375 \r\nL 14.40625 44 \r\nQ 17.4375 49.515625 20 51.265625 \r\nQ 22.5625 53.03125 25.640625 53.03125 \r\nQ 30.078125 53.03125 34.671875 50.203125 \r\nL 31.640625 42.046875 \r\nQ 28.421875 43.953125 25.203125 43.953125 \r\nQ 22.3125 43.953125 20.015625 42.21875 \r\nQ 17.71875 40.484375 16.75 37.40625 \r\nQ 15.28125 32.71875 15.28125 27.15625 \r\nL 15.28125 0 \r\nz\r\n\" id=\"ArialMT-114\"/>\r\n       <path d=\"M 42.09375 16.703125 \r\nL 51.171875 15.578125 \r\nQ 49.03125 7.625 43.21875 3.21875 \r\nQ 37.40625 -1.171875 28.375 -1.171875 \r\nQ 17 -1.171875 10.328125 5.828125 \r\nQ 3.65625 12.84375 3.65625 25.484375 \r\nQ 3.65625 38.578125 10.390625 45.796875 \r\nQ 17.140625 53.03125 27.875 53.03125 \r\nQ 38.28125 53.03125 44.875 45.953125 \r\nQ 51.46875 38.875 51.46875 26.03125 \r\nQ 51.46875 25.25 51.421875 23.6875 \r\nL 12.75 23.6875 \r\nQ 13.234375 15.140625 17.578125 10.59375 \r\nQ 21.921875 6.0625 28.421875 6.0625 \r\nQ 33.25 6.0625 36.671875 8.59375 \r\nQ 40.09375 11.140625 42.09375 16.703125 \r\nz\r\nM 13.234375 30.90625 \r\nL 42.1875 30.90625 \r\nQ 41.609375 37.453125 38.875 40.71875 \r\nQ 34.671875 45.796875 27.984375 45.796875 \r\nQ 21.921875 45.796875 17.796875 41.75 \r\nQ 13.671875 37.703125 13.234375 30.90625 \r\nz\r\n\" id=\"ArialMT-101\"/>\r\n       <path d=\"M 40.234375 0 \r\nL 40.234375 6.546875 \r\nQ 35.296875 -1.171875 25.734375 -1.171875 \r\nQ 19.53125 -1.171875 14.328125 2.25 \r\nQ 9.125 5.671875 6.265625 11.796875 \r\nQ 3.421875 17.921875 3.421875 25.875 \r\nQ 3.421875 33.640625 6 39.96875 \r\nQ 8.59375 46.296875 13.765625 49.65625 \r\nQ 18.953125 53.03125 25.34375 53.03125 \r\nQ 30.03125 53.03125 33.6875 51.046875 \r\nQ 37.359375 49.078125 39.65625 45.90625 \r\nL 39.65625 71.578125 \r\nL 48.390625 71.578125 \r\nL 48.390625 0 \r\nz\r\nM 12.453125 25.875 \r\nQ 12.453125 15.921875 16.640625 10.984375 \r\nQ 20.84375 6.0625 26.5625 6.0625 \r\nQ 32.328125 6.0625 36.34375 10.765625 \r\nQ 40.375 15.484375 40.375 25.140625 \r\nQ 40.375 35.796875 36.265625 40.765625 \r\nQ 32.171875 45.75 26.171875 45.75 \r\nQ 20.3125 45.75 16.375 40.96875 \r\nQ 12.453125 36.1875 12.453125 25.875 \r\nz\r\n\" id=\"ArialMT-100\"/>\r\n       <path d=\"M 6.640625 61.46875 \r\nL 6.640625 71.578125 \r\nL 15.4375 71.578125 \r\nL 15.4375 61.46875 \r\nz\r\nM 6.640625 0 \r\nL 6.640625 51.859375 \r\nL 15.4375 51.859375 \r\nL 15.4375 0 \r\nz\r\n\" id=\"ArialMT-105\"/>\r\n       <path d=\"M 40.4375 19 \r\nL 49.078125 17.875 \r\nQ 47.65625 8.9375 41.8125 3.875 \r\nQ 35.984375 -1.171875 27.484375 -1.171875 \r\nQ 16.84375 -1.171875 10.375 5.78125 \r\nQ 3.90625 12.75 3.90625 25.734375 \r\nQ 3.90625 34.125 6.6875 40.421875 \r\nQ 9.46875 46.734375 15.15625 49.875 \r\nQ 20.84375 53.03125 27.546875 53.03125 \r\nQ 35.984375 53.03125 41.359375 48.75 \r\nQ 46.734375 44.484375 48.25 36.625 \r\nL 39.703125 35.296875 \r\nQ 38.484375 40.53125 35.375 43.15625 \r\nQ 32.28125 45.796875 27.875 45.796875 \r\nQ 21.234375 45.796875 17.078125 41.03125 \r\nQ 12.9375 36.28125 12.9375 25.984375 \r\nQ 12.9375 15.53125 16.9375 10.796875 \r\nQ 20.953125 6.0625 27.390625 6.0625 \r\nQ 32.5625 6.0625 36.03125 9.234375 \r\nQ 39.5 12.40625 40.4375 19 \r\nz\r\n\" id=\"ArialMT-99\"/>\r\n       <path d=\"M 25.78125 7.859375 \r\nL 27.046875 0.09375 \r\nQ 23.34375 -0.6875 20.40625 -0.6875 \r\nQ 15.625 -0.6875 12.984375 0.828125 \r\nQ 10.359375 2.34375 9.28125 4.8125 \r\nQ 8.203125 7.28125 8.203125 15.1875 \r\nL 8.203125 45.015625 \r\nL 1.765625 45.015625 \r\nL 1.765625 51.859375 \r\nL 8.203125 51.859375 \r\nL 8.203125 64.703125 \r\nL 16.9375 69.96875 \r\nL 16.9375 51.859375 \r\nL 25.78125 51.859375 \r\nL 25.78125 45.015625 \r\nL 16.9375 45.015625 \r\nL 16.9375 14.703125 \r\nQ 16.9375 10.9375 17.40625 9.859375 \r\nQ 17.875 8.796875 18.921875 8.15625 \r\nQ 19.96875 7.515625 21.921875 7.515625 \r\nQ 23.390625 7.515625 25.78125 7.859375 \r\nz\r\n\" id=\"ArialMT-116\"/>\r\n      </defs>\r\n      <use xlink:href=\"#ArialMT-80\"/>\r\n      <use x=\"66.699219\" xlink:href=\"#ArialMT-114\"/>\r\n      <use x=\"100\" xlink:href=\"#ArialMT-101\"/>\r\n      <use x=\"155.615234\" xlink:href=\"#ArialMT-100\"/>\r\n      <use x=\"211.230469\" xlink:href=\"#ArialMT-105\"/>\r\n      <use x=\"233.447266\" xlink:href=\"#ArialMT-99\"/>\r\n      <use x=\"283.447266\" xlink:href=\"#ArialMT-116\"/>\r\n      <use x=\"311.230469\" xlink:href=\"#ArialMT-101\"/>\r\n      <use x=\"366.845703\" xlink:href=\"#ArialMT-100\"/>\r\n     </g>\r\n    </g>\r\n   </g>\r\n   <g id=\"matplotlib.axis_2\">\r\n    <g id=\"ytick_1\">\r\n     <g id=\"line2d_3\"/>\r\n     <g id=\"text_4\">\r\n      <!-- 0 -->\r\n      <g style=\"fill:#262626;\" transform=\"translate(27.503125 63.542031)rotate(-90)scale(0.1 -0.1)\">\r\n       <use xlink:href=\"#ArialMT-48\"/>\r\n      </g>\r\n     </g>\r\n    </g>\r\n    <g id=\"ytick_2\">\r\n     <g id=\"line2d_4\"/>\r\n     <g id=\"text_5\">\r\n      <!-- 1 -->\r\n      <g style=\"fill:#262626;\" transform=\"translate(27.503125 172.262031)rotate(-90)scale(0.1 -0.1)\">\r\n       <use xlink:href=\"#ArialMT-49\"/>\r\n      </g>\r\n     </g>\r\n    </g>\r\n    <g id=\"text_6\">\r\n     <!-- Actual -->\r\n     <g style=\"fill:#262626;\" transform=\"translate(14.357813 129.816094)rotate(-90)scale(0.1 -0.1)\">\r\n      <defs>\r\n       <path d=\"M -0.140625 0 \r\nL 27.34375 71.578125 \r\nL 37.546875 71.578125 \r\nL 66.84375 0 \r\nL 56.0625 0 \r\nL 47.703125 21.6875 \r\nL 17.78125 21.6875 \r\nL 9.90625 0 \r\nz\r\nM 20.515625 29.390625 \r\nL 44.78125 29.390625 \r\nL 37.3125 49.21875 \r\nQ 33.890625 58.25 32.234375 64.0625 \r\nQ 30.859375 57.171875 28.375 50.390625 \r\nz\r\n\" id=\"ArialMT-65\"/>\r\n       <path d=\"M 40.578125 0 \r\nL 40.578125 7.625 \r\nQ 34.515625 -1.171875 24.125 -1.171875 \r\nQ 19.53125 -1.171875 15.546875 0.578125 \r\nQ 11.578125 2.34375 9.640625 5 \r\nQ 7.71875 7.671875 6.9375 11.53125 \r\nQ 6.390625 14.109375 6.390625 19.734375 \r\nL 6.390625 51.859375 \r\nL 15.1875 51.859375 \r\nL 15.1875 23.09375 \r\nQ 15.1875 16.21875 15.71875 13.8125 \r\nQ 16.546875 10.359375 19.234375 8.375 \r\nQ 21.921875 6.390625 25.875 6.390625 \r\nQ 29.828125 6.390625 33.296875 8.421875 \r\nQ 36.765625 10.453125 38.203125 13.9375 \r\nQ 39.65625 17.4375 39.65625 24.078125 \r\nL 39.65625 51.859375 \r\nL 48.4375 51.859375 \r\nL 48.4375 0 \r\nz\r\n\" id=\"ArialMT-117\"/>\r\n       <path d=\"M 40.4375 6.390625 \r\nQ 35.546875 2.25 31.03125 0.53125 \r\nQ 26.515625 -1.171875 21.34375 -1.171875 \r\nQ 12.796875 -1.171875 8.203125 3 \r\nQ 3.609375 7.171875 3.609375 13.671875 \r\nQ 3.609375 17.484375 5.34375 20.625 \r\nQ 7.078125 23.78125 9.890625 25.6875 \r\nQ 12.703125 27.59375 16.21875 28.5625 \r\nQ 18.796875 29.25 24.03125 29.890625 \r\nQ 34.671875 31.15625 39.703125 32.90625 \r\nQ 39.75 34.71875 39.75 35.203125 \r\nQ 39.75 40.578125 37.25 42.78125 \r\nQ 33.890625 45.75 27.25 45.75 \r\nQ 21.046875 45.75 18.09375 43.578125 \r\nQ 15.140625 41.40625 13.71875 35.890625 \r\nL 5.125 37.0625 \r\nQ 6.296875 42.578125 8.984375 45.96875 \r\nQ 11.671875 49.359375 16.75 51.1875 \r\nQ 21.828125 53.03125 28.515625 53.03125 \r\nQ 35.15625 53.03125 39.296875 51.46875 \r\nQ 43.453125 49.90625 45.40625 47.53125 \r\nQ 47.359375 45.171875 48.140625 41.546875 \r\nQ 48.578125 39.3125 48.578125 33.453125 \r\nL 48.578125 21.734375 \r\nQ 48.578125 9.46875 49.140625 6.21875 \r\nQ 49.703125 2.984375 51.375 0 \r\nL 42.1875 0 \r\nQ 40.828125 2.734375 40.4375 6.390625 \r\nz\r\nM 39.703125 26.03125 \r\nQ 34.90625 24.078125 25.34375 22.703125 \r\nQ 19.921875 21.921875 17.671875 20.9375 \r\nQ 15.4375 19.96875 14.203125 18.09375 \r\nQ 12.984375 16.21875 12.984375 13.921875 \r\nQ 12.984375 10.40625 15.640625 8.0625 \r\nQ 18.3125 5.71875 23.4375 5.71875 \r\nQ 28.515625 5.71875 32.46875 7.9375 \r\nQ 36.421875 10.15625 38.28125 14.015625 \r\nQ 39.703125 17 39.703125 22.796875 \r\nz\r\n\" id=\"ArialMT-97\"/>\r\n       <path d=\"M 6.390625 0 \r\nL 6.390625 71.578125 \r\nL 15.1875 71.578125 \r\nL 15.1875 0 \r\nz\r\n\" id=\"ArialMT-108\"/>\r\n      </defs>\r\n      <use xlink:href=\"#ArialMT-65\"/>\r\n      <use x=\"66.699219\" xlink:href=\"#ArialMT-99\"/>\r\n      <use x=\"116.699219\" xlink:href=\"#ArialMT-116\"/>\r\n      <use x=\"144.482422\" xlink:href=\"#ArialMT-117\"/>\r\n      <use x=\"200.097656\" xlink:href=\"#ArialMT-97\"/>\r\n      <use x=\"255.712891\" xlink:href=\"#ArialMT-108\"/>\r\n     </g>\r\n    </g>\r\n   </g>\r\n   <g id=\"QuadMesh_1\">\r\n    <path clip-path=\"url(#p062d63d2ff)\" d=\"M 32.990625 7.2 \r\nL 166.910625 7.2 \r\nL 166.910625 115.92 \r\nL 32.990625 115.92 \r\nL 32.990625 7.2 \r\n\" style=\"fill:#ed503e;\"/>\r\n    <path clip-path=\"url(#p062d63d2ff)\" d=\"M 166.910625 7.2 \r\nL 300.830625 7.2 \r\nL 300.830625 115.92 \r\nL 166.910625 115.92 \r\nL 166.910625 7.2 \r\n\" style=\"fill:#5e1f52;\"/>\r\n    <path clip-path=\"url(#p062d63d2ff)\" d=\"M 32.990625 115.92 \r\nL 166.910625 115.92 \r\nL 166.910625 224.64 \r\nL 32.990625 224.64 \r\nL 32.990625 115.92 \r\n\" style=\"fill:#03051a;\"/>\r\n    <path clip-path=\"url(#p062d63d2ff)\" d=\"M 166.910625 115.92 \r\nL 300.830625 115.92 \r\nL 300.830625 224.64 \r\nL 166.910625 224.64 \r\nL 166.910625 115.92 \r\n\" style=\"fill:#faebdd;\"/>\r\n   </g>\r\n   <g id=\"text_7\">\r\n    <!-- 1.9e+02 -->\r\n    <g style=\"fill:#ffffff;\" transform=\"translate(81.738906 64.145156)scale(0.1 -0.1)\">\r\n     <defs>\r\n      <path d=\"M 9.078125 0 \r\nL 9.078125 10.015625 \r\nL 19.09375 10.015625 \r\nL 19.09375 0 \r\nz\r\n\" id=\"ArialMT-46\"/>\r\n      <path d=\"M 5.46875 16.546875 \r\nL 13.921875 17.328125 \r\nQ 14.984375 11.375 18.015625 8.6875 \r\nQ 21.046875 6 25.78125 6 \r\nQ 29.828125 6 32.875 7.859375 \r\nQ 35.9375 9.71875 37.890625 12.8125 \r\nQ 39.84375 15.921875 41.15625 21.1875 \r\nQ 42.484375 26.46875 42.484375 31.9375 \r\nQ 42.484375 32.515625 42.4375 33.6875 \r\nQ 39.796875 29.5 35.234375 26.875 \r\nQ 30.671875 24.265625 25.34375 24.265625 \r\nQ 16.453125 24.265625 10.296875 30.703125 \r\nQ 4.15625 37.15625 4.15625 47.703125 \r\nQ 4.15625 58.59375 10.578125 65.234375 \r\nQ 17 71.875 26.65625 71.875 \r\nQ 33.640625 71.875 39.421875 68.109375 \r\nQ 45.21875 64.359375 48.21875 57.390625 \r\nQ 51.21875 50.4375 51.21875 37.25 \r\nQ 51.21875 23.53125 48.234375 15.40625 \r\nQ 45.265625 7.28125 39.375 3.03125 \r\nQ 33.5 -1.21875 25.59375 -1.21875 \r\nQ 17.1875 -1.21875 11.859375 3.4375 \r\nQ 6.546875 8.109375 5.46875 16.546875 \r\nz\r\nM 41.453125 48.140625 \r\nQ 41.453125 55.71875 37.421875 60.15625 \r\nQ 33.40625 64.59375 27.734375 64.59375 \r\nQ 21.875 64.59375 17.53125 59.8125 \r\nQ 13.1875 55.03125 13.1875 47.40625 \r\nQ 13.1875 40.578125 17.3125 36.296875 \r\nQ 21.4375 32.03125 27.484375 32.03125 \r\nQ 33.59375 32.03125 37.515625 36.296875 \r\nQ 41.453125 40.578125 41.453125 48.140625 \r\nz\r\n\" id=\"ArialMT-57\"/>\r\n      <path d=\"M 25.046875 11.578125 \r\nL 25.046875 31.203125 \r\nL 5.5625 31.203125 \r\nL 5.5625 39.40625 \r\nL 25.046875 39.40625 \r\nL 25.046875 58.890625 \r\nL 33.34375 58.890625 \r\nL 33.34375 39.40625 \r\nL 52.828125 39.40625 \r\nL 52.828125 31.203125 \r\nL 33.34375 31.203125 \r\nL 33.34375 11.578125 \r\nz\r\n\" id=\"ArialMT-43\"/>\r\n      <path d=\"M 50.34375 8.453125 \r\nL 50.34375 0 \r\nL 3.03125 0 \r\nQ 2.9375 3.171875 4.046875 6.109375 \r\nQ 5.859375 10.9375 9.828125 15.625 \r\nQ 13.8125 20.3125 21.34375 26.46875 \r\nQ 33.015625 36.03125 37.109375 41.625 \r\nQ 41.21875 47.21875 41.21875 52.203125 \r\nQ 41.21875 57.421875 37.46875 61 \r\nQ 33.734375 64.59375 27.734375 64.59375 \r\nQ 21.390625 64.59375 17.578125 60.78125 \r\nQ 13.765625 56.984375 13.71875 50.25 \r\nL 4.6875 51.171875 \r\nQ 5.609375 61.28125 11.65625 66.578125 \r\nQ 17.71875 71.875 27.9375 71.875 \r\nQ 38.234375 71.875 44.234375 66.15625 \r\nQ 50.25 60.453125 50.25 52 \r\nQ 50.25 47.703125 48.484375 43.546875 \r\nQ 46.734375 39.40625 42.65625 34.8125 \r\nQ 38.578125 30.21875 29.109375 22.21875 \r\nQ 21.1875 15.578125 18.9375 13.203125 \r\nQ 16.703125 10.84375 15.234375 8.453125 \r\nz\r\n\" id=\"ArialMT-50\"/>\r\n     </defs>\r\n     <use xlink:href=\"#ArialMT-49\"/>\r\n     <use x=\"55.615234\" xlink:href=\"#ArialMT-46\"/>\r\n     <use x=\"83.398438\" xlink:href=\"#ArialMT-57\"/>\r\n     <use x=\"139.013672\" xlink:href=\"#ArialMT-101\"/>\r\n     <use x=\"194.628906\" xlink:href=\"#ArialMT-43\"/>\r\n     <use x=\"253.027344\" xlink:href=\"#ArialMT-48\"/>\r\n     <use x=\"308.642578\" xlink:href=\"#ArialMT-50\"/>\r\n    </g>\r\n   </g>\r\n   <g id=\"text_8\">\r\n    <!-- 90 -->\r\n    <g style=\"fill:#ffffff;\" transform=\"translate(228.309688 64.145156)scale(0.1 -0.1)\">\r\n     <use xlink:href=\"#ArialMT-57\"/>\r\n     <use x=\"55.615234\" xlink:href=\"#ArialMT-48\"/>\r\n    </g>\r\n   </g>\r\n   <g id=\"text_9\">\r\n    <!-- 25 -->\r\n    <g style=\"fill:#ffffff;\" transform=\"translate(94.389688 172.865156)scale(0.1 -0.1)\">\r\n     <defs>\r\n      <path d=\"M 4.15625 18.75 \r\nL 13.375 19.53125 \r\nQ 14.40625 12.796875 18.140625 9.390625 \r\nQ 21.875 6 27.15625 6 \r\nQ 33.5 6 37.890625 10.78125 \r\nQ 42.28125 15.578125 42.28125 23.484375 \r\nQ 42.28125 31 38.0625 35.34375 \r\nQ 33.84375 39.703125 27 39.703125 \r\nQ 22.75 39.703125 19.328125 37.765625 \r\nQ 15.921875 35.84375 13.96875 32.765625 \r\nL 5.71875 33.84375 \r\nL 12.640625 70.609375 \r\nL 48.25 70.609375 \r\nL 48.25 62.203125 \r\nL 19.671875 62.203125 \r\nL 15.828125 42.96875 \r\nQ 22.265625 47.46875 29.34375 47.46875 \r\nQ 38.71875 47.46875 45.15625 40.96875 \r\nQ 51.609375 34.46875 51.609375 24.265625 \r\nQ 51.609375 14.546875 45.953125 7.46875 \r\nQ 39.0625 -1.21875 27.15625 -1.21875 \r\nQ 17.390625 -1.21875 11.203125 4.25 \r\nQ 5.03125 9.71875 4.15625 18.75 \r\nz\r\n\" id=\"ArialMT-53\"/>\r\n     </defs>\r\n     <use xlink:href=\"#ArialMT-50\"/>\r\n     <use x=\"55.615234\" xlink:href=\"#ArialMT-53\"/>\r\n    </g>\r\n   </g>\r\n   <g id=\"text_10\">\r\n    <!-- 2.9e+02 -->\r\n    <g style=\"fill:#262626;\" transform=\"translate(215.658906 172.865156)scale(0.1 -0.1)\">\r\n     <use xlink:href=\"#ArialMT-50\"/>\r\n     <use x=\"55.615234\" xlink:href=\"#ArialMT-46\"/>\r\n     <use x=\"83.398438\" xlink:href=\"#ArialMT-57\"/>\r\n     <use x=\"139.013672\" xlink:href=\"#ArialMT-101\"/>\r\n     <use x=\"194.628906\" xlink:href=\"#ArialMT-43\"/>\r\n     <use x=\"253.027344\" xlink:href=\"#ArialMT-48\"/>\r\n     <use x=\"308.642578\" xlink:href=\"#ArialMT-50\"/>\r\n    </g>\r\n   </g>\r\n  </g>\r\n  <g id=\"axes_2\">\r\n   <g id=\"patch_3\">\r\n    <path clip-path=\"url(#p290ef9bd03)\" d=\"M 317.570625 224.64 \r\nL 317.570625 223.790625 \r\nL 317.570625 8.049375 \r\nL 317.570625 7.2 \r\nL 328.442625 7.2 \r\nL 328.442625 8.049375 \r\nL 328.442625 223.790625 \r\nL 328.442625 224.64 \r\nz\r\n\" style=\"fill:#eaeaf2;stroke:#eaeaf2;stroke-linejoin:miter;stroke-width:0.01;\"/>\r\n   </g>\r\n   <g id=\"matplotlib.axis_3\"/>\r\n   <g id=\"matplotlib.axis_4\">\r\n    <g id=\"ytick_3\">\r\n     <g id=\"line2d_5\"/>\r\n     <g id=\"text_11\">\r\n      <!-- 50 -->\r\n      <g style=\"fill:#262626;\" transform=\"translate(331.942625 207.782816)scale(0.1 -0.1)\">\r\n       <use xlink:href=\"#ArialMT-53\"/>\r\n       <use x=\"55.615234\" xlink:href=\"#ArialMT-48\"/>\r\n      </g>\r\n     </g>\r\n    </g>\r\n    <g id=\"ytick_4\">\r\n     <g id=\"line2d_6\"/>\r\n     <g id=\"text_12\">\r\n      <!-- 100 -->\r\n      <g style=\"fill:#262626;\" transform=\"translate(331.942625 166.910636)scale(0.1 -0.1)\">\r\n       <use xlink:href=\"#ArialMT-49\"/>\r\n       <use x=\"55.615234\" xlink:href=\"#ArialMT-48\"/>\r\n       <use x=\"111.230469\" xlink:href=\"#ArialMT-48\"/>\r\n      </g>\r\n     </g>\r\n    </g>\r\n    <g id=\"ytick_5\">\r\n     <g id=\"line2d_7\"/>\r\n     <g id=\"text_13\">\r\n      <!-- 150 -->\r\n      <g style=\"fill:#262626;\" transform=\"translate(331.942625 126.038455)scale(0.1 -0.1)\">\r\n       <use xlink:href=\"#ArialMT-49\"/>\r\n       <use x=\"55.615234\" xlink:href=\"#ArialMT-53\"/>\r\n       <use x=\"111.230469\" xlink:href=\"#ArialMT-48\"/>\r\n      </g>\r\n     </g>\r\n    </g>\r\n    <g id=\"ytick_6\">\r\n     <g id=\"line2d_8\"/>\r\n     <g id=\"text_14\">\r\n      <!-- 200 -->\r\n      <g style=\"fill:#262626;\" transform=\"translate(331.942625 85.166275)scale(0.1 -0.1)\">\r\n       <use xlink:href=\"#ArialMT-50\"/>\r\n       <use x=\"55.615234\" xlink:href=\"#ArialMT-48\"/>\r\n       <use x=\"111.230469\" xlink:href=\"#ArialMT-48\"/>\r\n      </g>\r\n     </g>\r\n    </g>\r\n    <g id=\"ytick_7\">\r\n     <g id=\"line2d_9\"/>\r\n     <g id=\"text_15\">\r\n      <!-- 250 -->\r\n      <g style=\"fill:#262626;\" transform=\"translate(331.942625 44.294094)scale(0.1 -0.1)\">\r\n       <use xlink:href=\"#ArialMT-50\"/>\r\n       <use x=\"55.615234\" xlink:href=\"#ArialMT-53\"/>\r\n       <use x=\"111.230469\" xlink:href=\"#ArialMT-48\"/>\r\n      </g>\r\n     </g>\r\n    </g>\r\n   </g>\r\n   <image height=\"217\" id=\"imagee337ba9022\" transform=\"scale(1 -1)translate(0 -217)\" width=\"10\" x=\"318\" xlink:href=\"data:image/png;base64,\r\niVBORw0KGgoAAAANSUhEUgAAAAoAAADZCAYAAAAZmKE8AAABVklEQVR4nNWY2Q3DMAxDdXWJ7j9n0xWeABJq8y2QInXYTs7r/QT4JjNJ3CYw1IidxQJLLqbkYnCOWLW+MnofeQm54dQevWqKaGjcOzG4MpeNKx/XCdxm7LusDB9XqpqFeTYut4d9myUFEfUl5GLuGtdhD0Rs/cxQakcJfz9HPXXLEQtdhU2qYeCicSk1Va0XM3fUvITyprhUbaBmkA7VD6TWj+tQ6qT2GBpXTt3xgYjQSEOOCed1igY2DdRTw4vUgrrhBnCI4dQoboHYBRsXXuwX9hyqrpbnaLAHIhY8Pybk1PpA+OSKybmjhkt8IwYj0veMPEcDNTy7+J8PnOMiEObI7aGqg/5L0atOrLrZW/PScL2PCV/YlhLi7pEjGlTTBaCv9bDzw+Gj3B4eyMf1TowesWmt/0G1XEymvCkuVZ8tKYyY/RIjOhpX7WNeTuHdyYVVq8V8AUUfKyMHc1XEAAAAAElFTkSuQmCC\" y=\"-7\"/>\r\n   <g id=\"patch_4\">\r\n    <path d=\"M 317.570625 224.64 \r\nL 317.570625 223.790625 \r\nL 317.570625 8.049375 \r\nL 317.570625 7.2 \r\nL 328.442625 7.2 \r\nL 328.442625 8.049375 \r\nL 328.442625 223.790625 \r\nL 328.442625 224.64 \r\nz\r\n\" style=\"fill:none;\"/>\r\n   </g>\r\n  </g>\r\n </g>\r\n <defs>\r\n  <clipPath id=\"p062d63d2ff\">\r\n   <rect height=\"217.44\" width=\"267.84\" x=\"32.990625\" y=\"7.2\"/>\r\n  </clipPath>\r\n  <clipPath id=\"p290ef9bd03\">\r\n   <rect height=\"217.44\" width=\"10.872\" x=\"317.570625\" y=\"7.2\"/>\r\n  </clipPath>\r\n </defs>\r\n</svg>\r\n",
      "image/png": "[encoded data removed]"
     },
     "metadata": {}
    }
   ],
   "metadata": {}
  },
  {
   "cell_type": "code",
   "execution_count": null,
   "source": [],
   "outputs": [],
   "metadata": {}
  }
 ],
 "metadata": {
  "kernelspec": {
   "name": "python3",
   "display_name": "Python 3.8.8 64-bit ('base': conda)"
  },
  "language_info": {
   "codemirror_mode": {
    "name": "ipython",
    "version": 3
   },
   "file_extension": ".py",
   "mimetype": "text/x-python",
   "name": "python",
   "nbconvert_exporter": "python",
   "pygments_lexer": "ipython3",
   "version": "3.8.8"
  },
  "toc": {
   "base_numbering": 1,
   "nav_menu": {},
   "number_sections": true,
   "sideBar": true,
   "skip_h1_title": false,
   "title_cell": "Table of Contents",
   "title_sidebar": "Contents",
   "toc_cell": false,
   "toc_position": {},
   "toc_section_display": true,
   "toc_window_display": false
  },
  "varInspector": {
   "cols": {
    "lenName": 16,
    "lenType": 16,
    "lenVar": 40
   },
   "kernels_config": {
    "python": {
     "delete_cmd_postfix": "",
     "delete_cmd_prefix": "del ",
     "library": "var_list.py",
     "varRefreshCmd": "print(var_dic_list())"
    },
    "r": {
     "delete_cmd_postfix": ") ",
     "delete_cmd_prefix": "rm(",
     "library": "var_list.r",
     "varRefreshCmd": "cat(var_dic_list()) "
    }
   },
   "types_to_exclude": [
    "module",
    "function",
    "builtin_function_or_method",
    "instance",
    "_Feature"
   ],
   "window_display": false
  },
  "interpreter": {
   "hash": "4949b78f48d8513d8ff039910be2b63568b354150738d3e85d54b60dc360063c"
  }
 },
 "nbformat": 4,
 "nbformat_minor": 2
}